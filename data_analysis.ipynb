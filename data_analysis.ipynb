{
 "cells": [
  {
   "cell_type": "markdown",
   "metadata": {},
   "source": [
    "# Imports"
   ]
  },
  {
   "cell_type": "code",
   "execution_count": 1,
   "metadata": {},
   "outputs": [],
   "source": [
    "import pandas as pd\n",
    "import matplotlib.pyplot as plt\n",
    "import seaborn as sns\n",
    "\n",
    "from sklearn.impute import KNNImputer\n",
    "from sklearn.linear_model import LinearRegression\n",
    "\n",
    "import warnings\n",
    "warnings.filterwarnings(\"ignore\")\n",
    "pd.set_option('display.float_format', '{:.2f}'.format)\n",
    "sns.color_palette(\"coolwarm\", n_colors=8)\n",
    "\n",
    "# Definindo a paleta de cores\n",
    "palette = sns.color_palette(\"Set1\", n_colors=8)\n",
    "plotly_colors = palette.as_hex()\n",
    "sns.set_palette(palette)"
   ]
  },
  {
   "cell_type": "markdown",
   "metadata": {},
   "source": [
    "# Functions"
   ]
  },
  {
   "cell_type": "markdown",
   "metadata": {},
   "source": [
    "## Data Quality"
   ]
  },
  {
   "cell_type": "code",
   "execution_count": 2,
   "metadata": {},
   "outputs": [],
   "source": [
    "def consistent_id(df: pd.DataFrame, column: str) -> bool:\n",
    "    \"\"\"\n",
    "    Verifica se a coluna fornecida contém valores únicos para cada linha,\n",
    "    garantindo a consistência de IDs exclusivos.\n",
    "\n",
    "    Parâmetros:\n",
    "    - df: pd.DataFrame - DataFrame contendo a coluna a ser verificada.\n",
    "    - column: str - Nome da coluna a ser verificada.\n",
    "\n",
    "    Retorno:\n",
    "    - bool - Retorna True se a coluna contém valores únicos, caso contrário, False.\n",
    "    \"\"\"\n",
    "    return df[column].nunique() == df.shape[0]\n",
    "\n",
    "# Qualidade\n",
    "def missing_verify(df: pd.DataFrame) -> pd.DataFrame:\n",
    "    \"\"\"\n",
    "    Verifica a presença de valores nulos em um DataFrame e retorna um resumo.\n",
    "\n",
    "    Parâmetros:\n",
    "    - df: pd.DataFrame - DataFrame a ser verificado.\n",
    "\n",
    "    Retorno:\n",
    "    - pd.DataFrame - DataFrame contendo as contagens e porcentagens de valores nulos por coluna.\n",
    "    \"\"\"\n",
    "    null_counts = df.isnull().sum()\n",
    "    null_percentage = (null_counts / len(df)) * 100\n",
    "    columns_with_nulls = null_counts[null_counts > 0].index.tolist()\n",
    "    \n",
    "    if columns_with_nulls:\n",
    "        print(\"Colunas que contêm valores nulos:\", columns_with_nulls)\n",
    "    else:\n",
    "        print(\"Nenhuma coluna contém valores nulos.\")\n",
    "    \n",
    "    null_df = pd.DataFrame({\n",
    "        'null': null_counts,\n",
    "        'percentage': null_percentage\n",
    "    })\n",
    "    \n",
    "    return null_df\n",
    "\n",
    "def missing_input_by(df: pd.DataFrame, column: str, method: str) -> pd.DataFrame:\n",
    "    \"\"\"\n",
    "    Imputa valores ausentes em uma coluna com base no método especificado.\n",
    "\n",
    "    Parâmetros:\n",
    "    - df: pd.DataFrame - DataFrame com a coluna a ser imputada.\n",
    "    - column: str - Nome da coluna onde os valores ausentes serão imputados.\n",
    "    - method: str - Método de imputação ('constant', 'mean', 'median', 'mode', 'interpolate', 'knn', 'regression').\n",
    "\n",
    "    Retorno:\n",
    "    - pd.DataFrame - DataFrame com a coluna imputada.\n",
    "    \"\"\"\n",
    "    if method == 'constant':\n",
    "        df[column].fillna(0, inplace=True)\n",
    "\n",
    "    elif method == 'mean':\n",
    "        df[column].fillna(df[column].mean(), inplace=True)\n",
    "\n",
    "    elif method == 'median':\n",
    "        df[column].fillna(df[column].median(), inplace=True)\n",
    "\n",
    "    elif method == 'mode':\n",
    "        df[column].fillna(df[column].mode()[0], inplace=True)\n",
    "\n",
    "    elif method == 'interpolate':\n",
    "        df[column].interpolate(method='linear', inplace=True)\n",
    "\n",
    "    elif method == 'knn':\n",
    "        imputer = KNNImputer(n_neighbors=5)\n",
    "        df[[column]] = imputer.fit_transform(df[[column]])\n",
    "\n",
    "    elif method == 'regression':\n",
    "        other_columns = df.columns.difference([column])\n",
    "        non_null_df = df.dropna(subset=[column])\n",
    "        \n",
    "        model = LinearRegression()\n",
    "        model.fit(non_null_df[other_columns], non_null_df[column])\n",
    "        \n",
    "        missing_df = df[df[column].isnull()]\n",
    "        df.loc[df[column].isnull(), column] = model.predict(missing_df[other_columns])\n",
    "\n",
    "    return df\n",
    "\n",
    "def replace_outliers(df: pd.DataFrame, col: str, method: str) -> pd.Series:\n",
    "    \"\"\"\n",
    "    Substitui os outliers em uma coluna com base no método especificado (média, mediana ou moda).\n",
    "\n",
    "    Parâmetros:\n",
    "    - df: pd.DataFrame - DataFrame contendo os dados.\n",
    "    - col: str - Nome da coluna a ser processada.\n",
    "    - method: str - Método de substituição dos outliers ('mean', 'median' ou 'mode').\n",
    "\n",
    "    Retorna:\n",
    "    - pd.Series - Série da coluna processada com os outliers substituídos.\n",
    "    \"\"\"\n",
    "    Q1 = df[col].quantile(0.25)\n",
    "    Q3 = df[col].quantile(0.75)\n",
    "    IQR = Q3 - Q1\n",
    "    lower_bound = Q1 - 1.5 * IQR\n",
    "    upper_bound = Q3 + 1.5 * IQR\n",
    "\n",
    "    # Definir o valor de substituição\n",
    "    if method == 'mean':\n",
    "        replacement_value = df[col].mean()\n",
    "    elif method == 'median':\n",
    "        replacement_value = df[col].median()\n",
    "    elif method == 'mode':\n",
    "        replacement_value = df[col].mode()[0]\n",
    "    else:\n",
    "        raise ValueError(\"Method must be 'mean', 'median', or 'mode'.\")\n",
    "    \n",
    "    # Substituir os outliers\n",
    "    df[col] = df[col].apply(lambda x: replacement_value if x < lower_bound or x > upper_bound else x)\n",
    "    \n",
    "    return df[col]\n"
   ]
  },
  {
   "cell_type": "markdown",
   "metadata": {},
   "source": [
    "## DataViz"
   ]
  },
  {
   "cell_type": "code",
   "execution_count": 3,
   "metadata": {},
   "outputs": [],
   "source": [
    "def get_palette_from_json(states, colors_json) -> list:\n",
    "    \"\"\"\n",
    "    Retorna uma lista de cores primárias correspondentes aos estados fornecidos.\n",
    "\n",
    "    Parâmetros:\n",
    "    - states: list - Lista de estados.\n",
    "    - colors_json: dict - Dicionário contendo as cores primárias por estado.\n",
    "\n",
    "    Retorno:\n",
    "    - list - Lista de cores primárias.\n",
    "    \"\"\"\n",
    "    return [colors_json[state]['primary_color'] for state in states]\n",
    "\n",
    "def plot_boxplot_grouped(df: pd.DataFrame, col: str, grouped: str, plot_config: dict) -> None:\n",
    "    \"\"\"\n",
    "    Plota um boxplot agrupado por uma coluna de agrupamento.\n",
    "\n",
    "    Parâmetros:\n",
    "    - df: pd.DataFrame - DataFrame contendo os dados.\n",
    "    - col: str - Nome da coluna a ser plotada.\n",
    "    - grouped: str - Nome da coluna de agrupamento.\n",
    "    - plot_config: dict - Dicionário contendo configurações do plot (cores, título, etc.).\n",
    "    \n",
    "    Retorno:\n",
    "    - None\n",
    "    \"\"\"\n",
    "    unique_group = df[grouped].unique()\n",
    "    \n",
    "    plt.figure(figsize=plot_config.get('figsize', (10, 6)))\n",
    "    \n",
    "    if 'colors' in plot_config:\n",
    "        palette = get_palette_from_json(unique_group, plot_config['colors'])\n",
    "        sns.boxplot(data=df, x=grouped, y=col, palette=palette)\n",
    "    else:\n",
    "        sns.boxplot(data=df, x=grouped, y=col)\n",
    "    \n",
    "    plt.title(plot_config.get('title', ''), fontsize=plot_config.get('title_size', 16))\n",
    "    plt.xlabel(plot_config.get('x_label', grouped), fontsize=plot_config.get('axis_font_size', 12))\n",
    "    plt.ylabel(plot_config.get('y_label', col), fontsize=plot_config.get('axis_font_size', 12))\n",
    "    \n",
    "    plt.show()\n",
    "\n",
    "\n",
    "def plot_boxplot_simple(df: pd.DataFrame, col: str, plot_config: dict, orientation=False) -> None:\n",
    "    \"\"\"\n",
    "    Plota um boxplot para uma coluna especificada do DataFrame.\n",
    "\n",
    "    Parâmetros:\n",
    "    - df: pd.DataFrame - DataFrame contendo os dados.\n",
    "    - col: str - Nome da coluna a ser plotada.\n",
    "    - plot_config: dict - Dicionário contendo configurações do plot (tamanho, cor, título, etc.).\n",
    "    - orientation: bool - Se True, plota o boxplot verticalmente, caso contrário, horizontalmente.\n",
    "    \n",
    "    Retorno:\n",
    "    - None\n",
    "    \"\"\"\n",
    "    plt.figure(figsize=plot_config.get('figsize', (10, 6)))\n",
    "    \n",
    "    if orientation:\n",
    "        sns.boxplot(y=df[col])\n",
    "    else: \n",
    "        sns.boxplot(x=df[col])\n",
    "\n",
    "    plt.title(plot_config.get('title', ''), fontsize=plot_config.get('title_size', 16))\n",
    "    plt.xlabel(plot_config.get('x_label', col), fontsize=plot_config.get('axis_font_size', 12))\n",
    "    plt.ylabel(plot_config.get('y_label', ''), fontsize=plot_config.get('axis_font_size', 12))\n",
    "    \n",
    "    plt.tight_layout()\n",
    "    plt.show()\n",
    "\n",
    "\n",
    "def plot_displot_simple(df: pd.DataFrame, col: str, plot_config: dict) -> None:\n",
    "    \"\"\"\n",
    "    Plota um gráfico de densidade simples (KDE) para uma coluna.\n",
    "\n",
    "    Parâmetros:\n",
    "    - df: pd.DataFrame - DataFrame contendo os dados.\n",
    "    - col: str - Nome da coluna a ser plotada.\n",
    "    - plot_config: dict - Dicionário contendo configurações do plot (título, rótulos, etc.).\n",
    "\n",
    "    Retorno:\n",
    "    - None\n",
    "    \"\"\"\n",
    "    plt.figure(figsize=plot_config.get('figsize', (10, 6)))\n",
    "\n",
    "    sns.displot(df, x=col, kind=\"kde\", palette=\"tab20\", height=8, aspect=1.5, fill=False)\n",
    "    \n",
    "    plt.title(plot_config.get('title', ''), fontsize=plot_config.get('title_size', 16))\n",
    "    plt.xlabel(plot_config.get('x_label', col), fontsize=plot_config.get('axis_font_size', 12))\n",
    "    plt.ylabel(plot_config.get('y_label', 'Densidade'), fontsize=plot_config.get('axis_font_size', 12))\n",
    "\n",
    "    plt.show()\n",
    "\n",
    "def plot_displot_grouped(df: pd.DataFrame, col: str, grouped: str, plot_config: dict) -> None:\n",
    "    \"\"\"\n",
    "    Plota um gráfico de densidade (KDE) agrupado por uma coluna específica.\n",
    "\n",
    "    Parâmetros:\n",
    "    - df: pd.DataFrame - DataFrame contendo os dados.\n",
    "    - col: str - Nome da coluna a ser plotada.\n",
    "    - grouped: str - Nome da coluna de agrupamento.\n",
    "    - plot_config: dict - Dicionário contendo configurações do plot (título, rótulos, etc.).\n",
    "\n",
    "    Retorno:\n",
    "    - None\n",
    "    \"\"\"\n",
    "    plt.figure(figsize=plot_config.get('figsize', (10, 6)))\n",
    "\n",
    "    sns.displot(df, x=col, hue=grouped, kind=\"kde\", palette=\"tab20\", height=8, aspect=1.5, fill=False)\n",
    "\n",
    "    plt.title(plot_config.get('title', ''), fontsize=plot_config.get('title_size', 16))\n",
    "    plt.xlabel(plot_config.get('x_label', col), fontsize=plot_config.get('axis_font_size', 12))\n",
    "    plt.ylabel(plot_config.get('y_label', 'Densidade'), fontsize=plot_config.get('axis_font_size', 12))\n",
    "\n",
    "    plt.show()\n",
    "\n",
    "def plot_displot_with_stats(df: pd.DataFrame, col: str, plot_config: dict) -> None:\n",
    "    \"\"\"\n",
    "    Plota um gráfico de densidade (KDE) com linhas representando média, mediana e moda.\n",
    "\n",
    "    Parâmetros:\n",
    "    - df: pd.DataFrame - DataFrame contendo os dados.\n",
    "    - col: str - Nome da coluna a ser plotada.\n",
    "    - plot_config: dict - Dicionário contendo configurações do plot (título, rótulos, etc.).\n",
    "\n",
    "    Retorno:\n",
    "    - None\n",
    "    \"\"\"\n",
    "    mean_value = df[col].mean()\n",
    "    median_value = df[col].median()\n",
    "    mode_value = df[col].mode()[0]\n",
    "\n",
    "    plt.figure(figsize=plot_config.get('figsize', (10, 6)))\n",
    "    sns.kdeplot(df[col], fill=False, palette=\"tab20\")\n",
    "\n",
    "    plt.axvline(mean_value, color='red', linestyle='--', label=f'Média: {mean_value:.2f}')\n",
    "    plt.axvline(median_value, color='blue', linestyle='-', label=f'Mediana: {median_value:.2f}')\n",
    "    plt.axvline(mode_value, color='green', linestyle='-.', label=f'Moda: {mode_value:.2f}')\n",
    "\n",
    "    plt.title(plot_config.get('title', ''), fontsize=plot_config.get('title_size', 16))\n",
    "    plt.xlabel(plot_config.get('x_label', col), fontsize=plot_config.get('axis_font_size', 12))\n",
    "    plt.ylabel(plot_config.get('y_label', 'Densidade'), fontsize=plot_config.get('axis_font_size', 12))\n",
    "\n",
    "    plt.legend()\n",
    "    plt.show()\n",
    "\n",
    "\n",
    "def plot_histogram(data: pd.DataFrame, col: str, plot_config: dict) -> None:\n",
    "    \"\"\"\n",
    "    Plota um histograma de uma coluna especificada.\n",
    "\n",
    "    Parâmetros:\n",
    "    - data: pd.DataFrame - DataFrame contendo os dados.\n",
    "    - col: str - Nome da coluna a ser plotada.\n",
    "    - plot_config: dict - Dicionário contendo configurações do plot (título, rótulos, etc.).\n",
    "\n",
    "    Retorno:\n",
    "    - None\n",
    "    \"\"\"\n",
    "    plt.figure(figsize=plot_config.get('figsize', (10, 6)))\n",
    "\n",
    "    sns.histplot(data[col], bins=30, kde=False)\n",
    "\n",
    "    plt.title(plot_config.get('title', ''), fontsize=plot_config.get('title_size', 16))\n",
    "    plt.xlabel(plot_config.get('x_label', 'Valor'), fontsize=plot_config.get('axis_font_size', 12))\n",
    "    plt.ylabel(plot_config.get('y_label', 'Frequência'), fontsize=plot_config.get('axis_font_size', 12))\n",
    "    \n",
    "    plt.tight_layout()\n",
    "    plt.show()\n"
   ]
  },
  {
   "cell_type": "markdown",
   "metadata": {},
   "source": [
    "## Stats"
   ]
  },
  {
   "cell_type": "code",
   "execution_count": 4,
   "metadata": {},
   "outputs": [],
   "source": [
    "def extended_stats_by_group(df: pd.DataFrame, group_col: str, value_col: str) -> pd.DataFrame:\n",
    "    \"\"\"\n",
    "    Calcula estatísticas detalhadas para uma coluna de valores, agrupado por uma coluna de grupo.\n",
    "\n",
    "    Parâmetros:\n",
    "    - df: pd.DataFrame - DataFrame contendo os dados.\n",
    "    - group_col: str - Nome da coluna para agrupamento.\n",
    "    - value_col: str - Nome da coluna para análise estatística.\n",
    "\n",
    "    Retorna:\n",
    "    - pd.DataFrame - DataFrame com contagem, porcentagem, valor máximo, valor mínimo, média, mediana, desvio padrão,\n",
    "                     assimetria, intervalo interquartílico (IQR) e coeficiente de variação (CV) para cada grupo.\n",
    "    \"\"\"\n",
    "    counts = df[group_col].value_counts()\n",
    "    percentages = df[group_col].value_counts(normalize=True) * 100\n",
    "    \n",
    "    # Calcular estatísticas para a coluna de valores\n",
    "    stats = df.groupby(group_col)[value_col].agg(['count', 'min', 'max', 'mean', 'median', 'std', 'skew'])\n",
    "    \n",
    "    # Calcular intervalo interquartílico (IQR)\n",
    "    stats['IQR'] = df.groupby(group_col)[value_col].apply(lambda x: x.quantile(0.75) - x.quantile(0.25))\n",
    "    \n",
    "    # Adicionar porcentagens e coeficiente de variação (CV)\n",
    "    stats['Percentage'] = percentages\n",
    "    stats['CV'] = stats['std'] / stats['mean'] * 100\n",
    "    \n",
    "    # Renomear colunas para clareza\n",
    "    stats.rename(columns={'count': 'Count', 'min': 'Min', 'max': 'Max', 'mean': 'Mean', 'median': 'Median', \n",
    "                          'std': 'StdDev', 'skew': 'Skewness', 'CV': 'CoefVar'}, inplace=True)\n",
    "    \n",
    "    return stats.reset_index()\n",
    "\n",
    "def value_counts_with_percentage(df: pd.DataFrame, col: str) -> pd.DataFrame:\n",
    "    \"\"\"\n",
    "    Conta os valores únicos e calcula a porcentagem de cada valor na coluna especificada do DataFrame.\n",
    "    \n",
    "    Parâmetros:\n",
    "    - df: pd.DataFrame - DataFrame contendo os dados.\n",
    "    - col: str - Nome da coluna a ser analisada.\n",
    "    \n",
    "    Retorna:\n",
    "    - pd.DataFrame - DataFrame com contagem e porcentagem dos valores únicos na coluna.\n",
    "    \"\"\"\n",
    "    counts = df[col].value_counts()\n",
    "    percentages = df[col].value_counts(normalize=True) * 100\n",
    "    \n",
    "    result = pd.DataFrame({\n",
    "        'Count': counts,\n",
    "        'Percentage': percentages\n",
    "    })\n",
    "    \n",
    "    return result\n"
   ]
  },
  {
   "cell_type": "markdown",
   "metadata": {},
   "source": [
    "# Load Data"
   ]
  },
  {
   "cell_type": "code",
   "execution_count": 5,
   "metadata": {},
   "outputs": [
    {
     "data": {
      "text/html": [
       "<div>\n",
       "<style scoped>\n",
       "    .dataframe tbody tr th:only-of-type {\n",
       "        vertical-align: middle;\n",
       "    }\n",
       "\n",
       "    .dataframe tbody tr th {\n",
       "        vertical-align: top;\n",
       "    }\n",
       "\n",
       "    .dataframe thead th {\n",
       "        text-align: right;\n",
       "    }\n",
       "</style>\n",
       "<table border=\"1\" class=\"dataframe\">\n",
       "  <thead>\n",
       "    <tr style=\"text-align: right;\">\n",
       "      <th></th>\n",
       "      <th>CODIGO_CLIENTE</th>\n",
       "      <th>UF</th>\n",
       "      <th>IDADE</th>\n",
       "      <th>ESCOLARIDADE</th>\n",
       "      <th>ESTADO_CIVIL</th>\n",
       "      <th>QT_FILHOS</th>\n",
       "      <th>CASA_PROPRIA</th>\n",
       "      <th>QT_IMOVEIS</th>\n",
       "      <th>VL_IMOVEIS</th>\n",
       "      <th>OUTRA_RENDA</th>\n",
       "      <th>OUTRA_RENDA_VALOR</th>\n",
       "      <th>TEMPO_ULTIMO_EMPREGO_MESES</th>\n",
       "      <th>TRABALHANDO_ATUALMENTE</th>\n",
       "      <th>ULTIMO_SALARIO</th>\n",
       "      <th>QT_CARROS</th>\n",
       "      <th>VALOR_TABELA_CARROS</th>\n",
       "      <th>SCORE</th>\n",
       "    </tr>\n",
       "  </thead>\n",
       "  <tbody>\n",
       "    <tr>\n",
       "      <th>0</th>\n",
       "      <td>1</td>\n",
       "      <td>SP</td>\n",
       "      <td>19</td>\n",
       "      <td>Superior Cursando</td>\n",
       "      <td>Solteiro</td>\n",
       "      <td>0</td>\n",
       "      <td>Não</td>\n",
       "      <td>0</td>\n",
       "      <td>0</td>\n",
       "      <td>Não</td>\n",
       "      <td>0</td>\n",
       "      <td>8</td>\n",
       "      <td>Sim</td>\n",
       "      <td>1800</td>\n",
       "      <td>0</td>\n",
       "      <td>0</td>\n",
       "      <td>12.00</td>\n",
       "    </tr>\n",
       "    <tr>\n",
       "      <th>1</th>\n",
       "      <td>2</td>\n",
       "      <td>MG</td>\n",
       "      <td>23</td>\n",
       "      <td>Superior Completo</td>\n",
       "      <td>Solteiro</td>\n",
       "      <td>1</td>\n",
       "      <td>Não</td>\n",
       "      <td>0</td>\n",
       "      <td>0</td>\n",
       "      <td>Não</td>\n",
       "      <td>0</td>\n",
       "      <td>9</td>\n",
       "      <td>Não</td>\n",
       "      <td>4800</td>\n",
       "      <td>1</td>\n",
       "      <td>50000</td>\n",
       "      <td>18.00</td>\n",
       "    </tr>\n",
       "    <tr>\n",
       "      <th>2</th>\n",
       "      <td>3</td>\n",
       "      <td>SC</td>\n",
       "      <td>25</td>\n",
       "      <td>Segundo Grau Completo</td>\n",
       "      <td>Casado</td>\n",
       "      <td>0</td>\n",
       "      <td>Sim</td>\n",
       "      <td>1</td>\n",
       "      <td>220000</td>\n",
       "      <td>Não</td>\n",
       "      <td>0</td>\n",
       "      <td>18</td>\n",
       "      <td>Sim</td>\n",
       "      <td>2200</td>\n",
       "      <td>2</td>\n",
       "      <td>30000</td>\n",
       "      <td>23.00</td>\n",
       "    </tr>\n",
       "    <tr>\n",
       "      <th>3</th>\n",
       "      <td>4</td>\n",
       "      <td>PR</td>\n",
       "      <td>27</td>\n",
       "      <td>Superior Cursando</td>\n",
       "      <td>Casado</td>\n",
       "      <td>1</td>\n",
       "      <td>Sim</td>\n",
       "      <td>0</td>\n",
       "      <td>0</td>\n",
       "      <td>Não</td>\n",
       "      <td>0</td>\n",
       "      <td>22</td>\n",
       "      <td>Não</td>\n",
       "      <td>3900</td>\n",
       "      <td>0</td>\n",
       "      <td>0</td>\n",
       "      <td>28.67</td>\n",
       "    </tr>\n",
       "    <tr>\n",
       "      <th>4</th>\n",
       "      <td>5</td>\n",
       "      <td>RJ</td>\n",
       "      <td>28</td>\n",
       "      <td>Superior Completo</td>\n",
       "      <td>Divorciado</td>\n",
       "      <td>2</td>\n",
       "      <td>Não</td>\n",
       "      <td>1</td>\n",
       "      <td>370000</td>\n",
       "      <td>Não</td>\n",
       "      <td>0</td>\n",
       "      <td>30</td>\n",
       "      <td>Sim</td>\n",
       "      <td>NaN</td>\n",
       "      <td>1</td>\n",
       "      <td>35000</td>\n",
       "      <td>34.17</td>\n",
       "    </tr>\n",
       "  </tbody>\n",
       "</table>\n",
       "</div>"
      ],
      "text/plain": [
       "   CODIGO_CLIENTE  UF  IDADE           ESCOLARIDADE ESTADO_CIVIL  QT_FILHOS  \\\n",
       "0               1  SP     19      Superior Cursando     Solteiro          0   \n",
       "1               2  MG     23      Superior Completo     Solteiro          1   \n",
       "2               3  SC     25  Segundo Grau Completo       Casado          0   \n",
       "3               4  PR     27      Superior Cursando       Casado          1   \n",
       "4               5  RJ     28      Superior Completo   Divorciado          2   \n",
       "\n",
       "  CASA_PROPRIA  QT_IMOVEIS  VL_IMOVEIS OUTRA_RENDA  OUTRA_RENDA_VALOR  \\\n",
       "0          Não           0           0         Não                  0   \n",
       "1          Não           0           0         Não                  0   \n",
       "2          Sim           1      220000         Não                  0   \n",
       "3          Sim           0           0         Não                  0   \n",
       "4          Não           1      370000         Não                  0   \n",
       "\n",
       "   TEMPO_ULTIMO_EMPREGO_MESES TRABALHANDO_ATUALMENTE ULTIMO_SALARIO  \\\n",
       "0                           8                    Sim           1800   \n",
       "1                           9                    Não           4800   \n",
       "2                          18                    Sim           2200   \n",
       "3                          22                    Não           3900   \n",
       "4                          30                    Sim            NaN   \n",
       "\n",
       "   QT_CARROS  VALOR_TABELA_CARROS  SCORE  \n",
       "0          0                    0  12.00  \n",
       "1          1                50000  18.00  \n",
       "2          2                30000  23.00  \n",
       "3          0                    0  28.67  \n",
       "4          1                35000  34.17  "
      ]
     },
     "execution_count": 5,
     "metadata": {},
     "output_type": "execute_result"
    }
   ],
   "source": [
    "df = pd.read_excel(\"dados_credito.xlsx\")\n",
    "df.head()"
   ]
  },
  {
   "cell_type": "code",
   "execution_count": 6,
   "metadata": {},
   "outputs": [
    {
     "name": "stdout",
     "output_type": "stream",
     "text": [
      "Os códigos dos clientes estão consistentes? Isto é, há ids únicos para cada cliente?:  True\n",
      "Colunas que contêm valores nulos: ['ULTIMO_SALARIO']\n"
     ]
    },
    {
     "data": {
      "text/html": [
       "<div>\n",
       "<style scoped>\n",
       "    .dataframe tbody tr th:only-of-type {\n",
       "        vertical-align: middle;\n",
       "    }\n",
       "\n",
       "    .dataframe tbody tr th {\n",
       "        vertical-align: top;\n",
       "    }\n",
       "\n",
       "    .dataframe thead th {\n",
       "        text-align: right;\n",
       "    }\n",
       "</style>\n",
       "<table border=\"1\" class=\"dataframe\">\n",
       "  <thead>\n",
       "    <tr style=\"text-align: right;\">\n",
       "      <th></th>\n",
       "      <th>null</th>\n",
       "      <th>percentage</th>\n",
       "    </tr>\n",
       "  </thead>\n",
       "  <tbody>\n",
       "    <tr>\n",
       "      <th>CODIGO_CLIENTE</th>\n",
       "      <td>0</td>\n",
       "      <td>0.00</td>\n",
       "    </tr>\n",
       "    <tr>\n",
       "      <th>UF</th>\n",
       "      <td>0</td>\n",
       "      <td>0.00</td>\n",
       "    </tr>\n",
       "    <tr>\n",
       "      <th>IDADE</th>\n",
       "      <td>0</td>\n",
       "      <td>0.00</td>\n",
       "    </tr>\n",
       "    <tr>\n",
       "      <th>ESCOLARIDADE</th>\n",
       "      <td>0</td>\n",
       "      <td>0.00</td>\n",
       "    </tr>\n",
       "    <tr>\n",
       "      <th>ESTADO_CIVIL</th>\n",
       "      <td>0</td>\n",
       "      <td>0.00</td>\n",
       "    </tr>\n",
       "    <tr>\n",
       "      <th>QT_FILHOS</th>\n",
       "      <td>0</td>\n",
       "      <td>0.00</td>\n",
       "    </tr>\n",
       "    <tr>\n",
       "      <th>CASA_PROPRIA</th>\n",
       "      <td>0</td>\n",
       "      <td>0.00</td>\n",
       "    </tr>\n",
       "    <tr>\n",
       "      <th>QT_IMOVEIS</th>\n",
       "      <td>0</td>\n",
       "      <td>0.00</td>\n",
       "    </tr>\n",
       "    <tr>\n",
       "      <th>VL_IMOVEIS</th>\n",
       "      <td>0</td>\n",
       "      <td>0.00</td>\n",
       "    </tr>\n",
       "    <tr>\n",
       "      <th>OUTRA_RENDA</th>\n",
       "      <td>0</td>\n",
       "      <td>0.00</td>\n",
       "    </tr>\n",
       "    <tr>\n",
       "      <th>OUTRA_RENDA_VALOR</th>\n",
       "      <td>0</td>\n",
       "      <td>0.00</td>\n",
       "    </tr>\n",
       "    <tr>\n",
       "      <th>TEMPO_ULTIMO_EMPREGO_MESES</th>\n",
       "      <td>0</td>\n",
       "      <td>0.00</td>\n",
       "    </tr>\n",
       "    <tr>\n",
       "      <th>TRABALHANDO_ATUALMENTE</th>\n",
       "      <td>0</td>\n",
       "      <td>0.00</td>\n",
       "    </tr>\n",
       "    <tr>\n",
       "      <th>ULTIMO_SALARIO</th>\n",
       "      <td>2</td>\n",
       "      <td>0.02</td>\n",
       "    </tr>\n",
       "    <tr>\n",
       "      <th>QT_CARROS</th>\n",
       "      <td>0</td>\n",
       "      <td>0.00</td>\n",
       "    </tr>\n",
       "    <tr>\n",
       "      <th>VALOR_TABELA_CARROS</th>\n",
       "      <td>0</td>\n",
       "      <td>0.00</td>\n",
       "    </tr>\n",
       "    <tr>\n",
       "      <th>SCORE</th>\n",
       "      <td>0</td>\n",
       "      <td>0.00</td>\n",
       "    </tr>\n",
       "  </tbody>\n",
       "</table>\n",
       "</div>"
      ],
      "text/plain": [
       "                            null  percentage\n",
       "CODIGO_CLIENTE                 0        0.00\n",
       "UF                             0        0.00\n",
       "IDADE                          0        0.00\n",
       "ESCOLARIDADE                   0        0.00\n",
       "ESTADO_CIVIL                   0        0.00\n",
       "QT_FILHOS                      0        0.00\n",
       "CASA_PROPRIA                   0        0.00\n",
       "QT_IMOVEIS                     0        0.00\n",
       "VL_IMOVEIS                     0        0.00\n",
       "OUTRA_RENDA                    0        0.00\n",
       "OUTRA_RENDA_VALOR              0        0.00\n",
       "TEMPO_ULTIMO_EMPREGO_MESES     0        0.00\n",
       "TRABALHANDO_ATUALMENTE         0        0.00\n",
       "ULTIMO_SALARIO                 2        0.02\n",
       "QT_CARROS                      0        0.00\n",
       "VALOR_TABELA_CARROS            0        0.00\n",
       "SCORE                          0        0.00"
      ]
     },
     "execution_count": 6,
     "metadata": {},
     "output_type": "execute_result"
    }
   ],
   "source": [
    "print(\"Os códigos dos clientes estão consistentes? Isto é, há ids únicos para cada cliente?: \", consistent_id( df, 'CODIGO_CLIENTE'))\n",
    "missing_verify(df)"
   ]
  },
  {
   "cell_type": "markdown",
   "metadata": {},
   "source": [
    "## Missing Values\n",
    "\n",
    "Para lidar com valores faltantes, diversas técnicas podem ser aplicadas. A escolha da técnica mais adequada dependerá da análise da distribuição dos dados da variável 'ÚLTIMO_SALÁRIO'.\n",
    "\n",
    "A seguir, apresentamos algumas abordagens comuns e quando utilizá-las:\n",
    "\n",
    " * Média: Adequada para dados que seguem uma distribuição simétrica e não possuem outliers significativos. Essa técnica é útil para manter a consistência na média dos dados e é eficaz quando os valores ausentes são relativamente poucos.\n",
    "\n",
    "* Mediana: Recomendada para distribuições assimétricas ou quando existem outliers. A mediana proporciona uma medida central mais robusta e menos afetada por valores extremos.\n",
    "\n",
    "* Moda: Ideal para dados categóricos ou distribuições multimodais, onde há uma ou mais categorias que ocorrem com maior frequência. A moda é útil para preservar a frequência das categorias predominantes.\n",
    "\n",
    "A decisão sobre qual técnica utilizar deve ser baseada na análise detalhada da distribuição dos dados e na natureza dos valores ausentes. Aplicar a técnica adequada garantirá a integridade e a precisão dos dados imputados."
   ]
  },
  {
   "cell_type": "code",
   "execution_count": 7,
   "metadata": {},
   "outputs": [
    {
     "data": {
      "text/html": [
       "<div>\n",
       "<style scoped>\n",
       "    .dataframe tbody tr th:only-of-type {\n",
       "        vertical-align: middle;\n",
       "    }\n",
       "\n",
       "    .dataframe tbody tr th {\n",
       "        vertical-align: top;\n",
       "    }\n",
       "\n",
       "    .dataframe thead th {\n",
       "        text-align: right;\n",
       "    }\n",
       "</style>\n",
       "<table border=\"1\" class=\"dataframe\">\n",
       "  <thead>\n",
       "    <tr style=\"text-align: right;\">\n",
       "      <th></th>\n",
       "      <th>CODIGO_CLIENTE</th>\n",
       "      <th>UF</th>\n",
       "      <th>IDADE</th>\n",
       "      <th>ESCOLARIDADE</th>\n",
       "      <th>ESTADO_CIVIL</th>\n",
       "      <th>QT_FILHOS</th>\n",
       "      <th>CASA_PROPRIA</th>\n",
       "      <th>QT_IMOVEIS</th>\n",
       "      <th>VL_IMOVEIS</th>\n",
       "      <th>OUTRA_RENDA</th>\n",
       "      <th>OUTRA_RENDA_VALOR</th>\n",
       "      <th>TEMPO_ULTIMO_EMPREGO_MESES</th>\n",
       "      <th>TRABALHANDO_ATUALMENTE</th>\n",
       "      <th>ULTIMO_SALARIO</th>\n",
       "      <th>QT_CARROS</th>\n",
       "      <th>VALOR_TABELA_CARROS</th>\n",
       "      <th>SCORE</th>\n",
       "    </tr>\n",
       "  </thead>\n",
       "  <tbody>\n",
       "    <tr>\n",
       "      <th>4</th>\n",
       "      <td>5</td>\n",
       "      <td>RJ</td>\n",
       "      <td>28</td>\n",
       "      <td>Superior Completo</td>\n",
       "      <td>Divorciado</td>\n",
       "      <td>2</td>\n",
       "      <td>Não</td>\n",
       "      <td>1</td>\n",
       "      <td>370000</td>\n",
       "      <td>Não</td>\n",
       "      <td>0</td>\n",
       "      <td>30</td>\n",
       "      <td>Sim</td>\n",
       "      <td>NaN</td>\n",
       "      <td>1</td>\n",
       "      <td>35000</td>\n",
       "      <td>34.17</td>\n",
       "    </tr>\n",
       "    <tr>\n",
       "      <th>10474</th>\n",
       "      <td>10475</td>\n",
       "      <td>RJ</td>\n",
       "      <td>48</td>\n",
       "      <td>Superior Completo</td>\n",
       "      <td>Divorciado</td>\n",
       "      <td>2</td>\n",
       "      <td>Não</td>\n",
       "      <td>1</td>\n",
       "      <td>370000</td>\n",
       "      <td>Não</td>\n",
       "      <td>0</td>\n",
       "      <td>30</td>\n",
       "      <td>Sim</td>\n",
       "      <td>NaN</td>\n",
       "      <td>1</td>\n",
       "      <td>35000</td>\n",
       "      <td>34.17</td>\n",
       "    </tr>\n",
       "  </tbody>\n",
       "</table>\n",
       "</div>"
      ],
      "text/plain": [
       "       CODIGO_CLIENTE  UF  IDADE       ESCOLARIDADE ESTADO_CIVIL  QT_FILHOS  \\\n",
       "4                   5  RJ     28  Superior Completo   Divorciado          2   \n",
       "10474           10475  RJ     48  Superior Completo   Divorciado          2   \n",
       "\n",
       "      CASA_PROPRIA  QT_IMOVEIS  VL_IMOVEIS OUTRA_RENDA  OUTRA_RENDA_VALOR  \\\n",
       "4              Não           1      370000         Não                  0   \n",
       "10474          Não           1      370000         Não                  0   \n",
       "\n",
       "       TEMPO_ULTIMO_EMPREGO_MESES TRABALHANDO_ATUALMENTE ULTIMO_SALARIO  \\\n",
       "4                              30                    Sim            NaN   \n",
       "10474                          30                    Sim            NaN   \n",
       "\n",
       "       QT_CARROS  VALOR_TABELA_CARROS  SCORE  \n",
       "4              1                35000  34.17  \n",
       "10474          1                35000  34.17  "
      ]
     },
     "execution_count": 7,
     "metadata": {},
     "output_type": "execute_result"
    }
   ],
   "source": [
    "df[df['ULTIMO_SALARIO'].isnull() == True]"
   ]
  },
  {
   "cell_type": "markdown",
   "metadata": {},
   "source": [
    "Mesmo que os valores faltantes sejam representados como None, a característica dos dados deveria ser numérica. Portanto, ao examinar a descrição estatística dos dados, podemos observar que há valores categóricos que precisam ser tratados adequadamente.\n",
    "\n",
    "É importante revisar a distribuição e o tipo de dados apresentados para garantir que todos os valores sejam consistentes com o tipo de variável esperado. A presença de valores categóricos em uma coluna esperada como numérica sugere a necessidade de um tratamento adicional para alinhar os dados à sua estrutura correta e garantir a precisão das análises subsequentes.\n",
    "\n",
    "Após a análise, identificou-se que o valor de referência para os dados categóricos é 'SEM DADOS'. Esse valor deve ser utilizado para substituir ou tratar entradas que não possuem informação específica, garantindo que a integridade dos dados seja mantida e que a análise subsequente reflita corretamente as ausências de informação."
   ]
  },
  {
   "cell_type": "code",
   "execution_count": 8,
   "metadata": {},
   "outputs": [
    {
     "data": {
      "text/plain": [
       "count     10474\n",
       "unique       18\n",
       "top        1800\n",
       "freq        846\n",
       "Name: ULTIMO_SALARIO, dtype: int64"
      ]
     },
     "execution_count": 8,
     "metadata": {},
     "output_type": "execute_result"
    }
   ],
   "source": [
    "df['ULTIMO_SALARIO'].describe()"
   ]
  },
  {
   "cell_type": "code",
   "execution_count": 9,
   "metadata": {},
   "outputs": [
    {
     "data": {
      "text/html": [
       "<div>\n",
       "<style scoped>\n",
       "    .dataframe tbody tr th:only-of-type {\n",
       "        vertical-align: middle;\n",
       "    }\n",
       "\n",
       "    .dataframe tbody tr th {\n",
       "        vertical-align: top;\n",
       "    }\n",
       "\n",
       "    .dataframe thead th {\n",
       "        text-align: right;\n",
       "    }\n",
       "</style>\n",
       "<table border=\"1\" class=\"dataframe\">\n",
       "  <thead>\n",
       "    <tr style=\"text-align: right;\">\n",
       "      <th></th>\n",
       "      <th>CODIGO_CLIENTE</th>\n",
       "      <th>UF</th>\n",
       "      <th>IDADE</th>\n",
       "      <th>ESCOLARIDADE</th>\n",
       "      <th>ESTADO_CIVIL</th>\n",
       "      <th>QT_FILHOS</th>\n",
       "      <th>CASA_PROPRIA</th>\n",
       "      <th>QT_IMOVEIS</th>\n",
       "      <th>VL_IMOVEIS</th>\n",
       "      <th>OUTRA_RENDA</th>\n",
       "      <th>OUTRA_RENDA_VALOR</th>\n",
       "      <th>TEMPO_ULTIMO_EMPREGO_MESES</th>\n",
       "      <th>TRABALHANDO_ATUALMENTE</th>\n",
       "      <th>ULTIMO_SALARIO</th>\n",
       "      <th>QT_CARROS</th>\n",
       "      <th>VALOR_TABELA_CARROS</th>\n",
       "      <th>SCORE</th>\n",
       "    </tr>\n",
       "  </thead>\n",
       "  <tbody>\n",
       "    <tr>\n",
       "      <th>10459</th>\n",
       "      <td>10460</td>\n",
       "      <td>RJ</td>\n",
       "      <td>45</td>\n",
       "      <td>Superior Cursando</td>\n",
       "      <td>Solteiro</td>\n",
       "      <td>1</td>\n",
       "      <td>Sim</td>\n",
       "      <td>1</td>\n",
       "      <td>185000</td>\n",
       "      <td>Sim</td>\n",
       "      <td>3000</td>\n",
       "      <td>19</td>\n",
       "      <td>Sim</td>\n",
       "      <td>SEM DADOS</td>\n",
       "      <td>0</td>\n",
       "      <td>0</td>\n",
       "      <td>45.17</td>\n",
       "    </tr>\n",
       "  </tbody>\n",
       "</table>\n",
       "</div>"
      ],
      "text/plain": [
       "       CODIGO_CLIENTE  UF  IDADE       ESCOLARIDADE ESTADO_CIVIL  QT_FILHOS  \\\n",
       "10459           10460  RJ     45  Superior Cursando     Solteiro          1   \n",
       "\n",
       "      CASA_PROPRIA  QT_IMOVEIS  VL_IMOVEIS OUTRA_RENDA  OUTRA_RENDA_VALOR  \\\n",
       "10459          Sim           1      185000         Sim               3000   \n",
       "\n",
       "       TEMPO_ULTIMO_EMPREGO_MESES TRABALHANDO_ATUALMENTE ULTIMO_SALARIO  \\\n",
       "10459                          19                    Sim      SEM DADOS   \n",
       "\n",
       "       QT_CARROS  VALOR_TABELA_CARROS  SCORE  \n",
       "10459          0                    0  45.17  "
      ]
     },
     "execution_count": 9,
     "metadata": {},
     "output_type": "execute_result"
    }
   ],
   "source": [
    "df[df['ULTIMO_SALARIO'] == 'SEM DADOS']"
   ]
  },
  {
   "cell_type": "code",
   "execution_count": 10,
   "metadata": {},
   "outputs": [
    {
     "data": {
      "text/plain": [
       "(count   10473.00\n",
       " mean     8287.16\n",
       " std      5827.31\n",
       " min      1800.00\n",
       " 25%      3900.00\n",
       " 50%      6100.00\n",
       " 75%     11500.00\n",
       " max     22000.00\n",
       " Name: ULTIMO_SALARIO, dtype: float64,)"
      ]
     },
     "execution_count": 10,
     "metadata": {},
     "output_type": "execute_result"
    }
   ],
   "source": [
    "df.loc[df['ULTIMO_SALARIO'] == 'SEM DADOS', 'ULTIMO_SALARIO'] = None\n",
    "df = df.astype({'ULTIMO_SALARIO':float})\n",
    "\n",
    "df['ULTIMO_SALARIO'].describe(), "
   ]
  },
  {
   "cell_type": "code",
   "execution_count": 11,
   "metadata": {},
   "outputs": [
    {
     "data": {
      "image/png": "[encoded data removed]",
      "text/plain": [
       "<Figure size 600x400 with 1 Axes>"
      ]
     },
     "metadata": {},
     "output_type": "display_data"
    }
   ],
   "source": [
    "plot_config = {'figsize':(6, 4),\n",
    "               'title':'Distribuição e Estatísticas do Último Salário',\n",
    "               'x_label':'Valores',\n",
    "               'y_label':'Densidade',\n",
    "               'axis_font_size': 12,\n",
    "               'title_size': 14,\n",
    "               }\n",
    "plot_displot_with_stats(df, 'ULTIMO_SALARIO', plot_config)"
   ]
  },
  {
   "cell_type": "code",
   "execution_count": 12,
   "metadata": {},
   "outputs": [
    {
     "data": {
      "image/png": "[encoded data removed]",
      "text/plain": [
       "<Figure size 600x400 with 1 Axes>"
      ]
     },
     "metadata": {},
     "output_type": "display_data"
    }
   ],
   "source": [
    "plot_config = {'figsize':(6, 4),\n",
    "               'title':'Boxplot do Último Salário',\n",
    "               'x_label':'Valores',\n",
    "               'y_label':'',\n",
    "               'axis_font_size': 12,\n",
    "               'title_size': 14,\n",
    "               }\n",
    "plot_boxplot_simple(df, \"ULTIMO_SALARIO\", plot_config, orientation=False)"
   ]
  },
  {
   "cell_type": "markdown",
   "metadata": {},
   "source": [
    "\n",
    "Como a distribuição dos dados satisfazem os seguintes requisitos:\n",
    "\n",
    "    [x] é assimetrica\n",
    "    [x] não contém outliers\n",
    "    [x] não é categórica\n",
    "\n",
    "Concluí-se que a média é o melhor valor para poder representar os dados faltantes."
   ]
  },
  {
   "cell_type": "code",
   "execution_count": 13,
   "metadata": {},
   "outputs": [
    {
     "data": {
      "text/plain": [
       "np.int64(0)"
      ]
     },
     "execution_count": 13,
     "metadata": {},
     "output_type": "execute_result"
    }
   ],
   "source": [
    "df =  missing_input_by(df, 'ULTIMO_SALARIO', 'mean')\n",
    "df['ULTIMO_SALARIO'].isnull().sum()"
   ]
  },
  {
   "cell_type": "markdown",
   "metadata": {},
   "source": [
    "# Exploratory Data Analysis"
   ]
  },
  {
   "cell_type": "markdown",
   "metadata": {},
   "source": [
    "## General"
   ]
  },
  {
   "cell_type": "code",
   "execution_count": 14,
   "metadata": {},
   "outputs": [
    {
     "name": "stdout",
     "output_type": "stream",
     "text": [
      "<class 'pandas.core.frame.DataFrame'>\n",
      "RangeIndex: 10476 entries, 0 to 10475\n",
      "Data columns (total 17 columns):\n",
      " #   Column                      Non-Null Count  Dtype  \n",
      "---  ------                      --------------  -----  \n",
      " 0   CODIGO_CLIENTE              10476 non-null  int64  \n",
      " 1   UF                          10476 non-null  object \n",
      " 2   IDADE                       10476 non-null  int64  \n",
      " 3   ESCOLARIDADE                10476 non-null  object \n",
      " 4   ESTADO_CIVIL                10476 non-null  object \n",
      " 5   QT_FILHOS                   10476 non-null  int64  \n",
      " 6   CASA_PROPRIA                10476 non-null  object \n",
      " 7   QT_IMOVEIS                  10476 non-null  int64  \n",
      " 8   VL_IMOVEIS                  10476 non-null  int64  \n",
      " 9   OUTRA_RENDA                 10476 non-null  object \n",
      " 10  OUTRA_RENDA_VALOR           10476 non-null  int64  \n",
      " 11  TEMPO_ULTIMO_EMPREGO_MESES  10476 non-null  int64  \n",
      " 12  TRABALHANDO_ATUALMENTE      10476 non-null  object \n",
      " 13  ULTIMO_SALARIO              10476 non-null  float64\n",
      " 14  QT_CARROS                   10476 non-null  int64  \n",
      " 15  VALOR_TABELA_CARROS         10476 non-null  int64  \n",
      " 16  SCORE                       10476 non-null  float64\n",
      "dtypes: float64(2), int64(9), object(6)\n",
      "memory usage: 1.4+ MB\n"
     ]
    }
   ],
   "source": [
    "df.info()"
   ]
  },
  {
   "cell_type": "markdown",
   "metadata": {},
   "source": [
    "## Estado"
   ]
  },
  {
   "cell_type": "code",
   "execution_count": 15,
   "metadata": {},
   "outputs": [
    {
     "data": {
      "text/html": [
       "<div>\n",
       "<style scoped>\n",
       "    .dataframe tbody tr th:only-of-type {\n",
       "        vertical-align: middle;\n",
       "    }\n",
       "\n",
       "    .dataframe tbody tr th {\n",
       "        vertical-align: top;\n",
       "    }\n",
       "\n",
       "    .dataframe thead th {\n",
       "        text-align: right;\n",
       "    }\n",
       "</style>\n",
       "<table border=\"1\" class=\"dataframe\">\n",
       "  <thead>\n",
       "    <tr style=\"text-align: right;\">\n",
       "      <th></th>\n",
       "      <th>Count</th>\n",
       "      <th>Percentage</th>\n",
       "    </tr>\n",
       "    <tr>\n",
       "      <th>UF</th>\n",
       "      <th></th>\n",
       "      <th></th>\n",
       "    </tr>\n",
       "  </thead>\n",
       "  <tbody>\n",
       "    <tr>\n",
       "      <th>RJ</th>\n",
       "      <td>2916</td>\n",
       "      <td>27.84</td>\n",
       "    </tr>\n",
       "    <tr>\n",
       "      <th>SP</th>\n",
       "      <td>2430</td>\n",
       "      <td>23.20</td>\n",
       "    </tr>\n",
       "    <tr>\n",
       "      <th>PR</th>\n",
       "      <td>1890</td>\n",
       "      <td>18.04</td>\n",
       "    </tr>\n",
       "    <tr>\n",
       "      <th>SC</th>\n",
       "      <td>1620</td>\n",
       "      <td>15.46</td>\n",
       "    </tr>\n",
       "    <tr>\n",
       "      <th>MG</th>\n",
       "      <td>1620</td>\n",
       "      <td>15.46</td>\n",
       "    </tr>\n",
       "  </tbody>\n",
       "</table>\n",
       "</div>"
      ],
      "text/plain": [
       "    Count  Percentage\n",
       "UF                   \n",
       "RJ   2916       27.84\n",
       "SP   2430       23.20\n",
       "PR   1890       18.04\n",
       "SC   1620       15.46\n",
       "MG   1620       15.46"
      ]
     },
     "execution_count": 15,
     "metadata": {},
     "output_type": "execute_result"
    }
   ],
   "source": [
    "value_counts_with_percentage(df, 'UF').sort_values(by='Percentage', ascending=False)"
   ]
  },
  {
   "cell_type": "code",
   "execution_count": 16,
   "metadata": {},
   "outputs": [
    {
     "data": {
      "text/html": [
       "<div>\n",
       "<style scoped>\n",
       "    .dataframe tbody tr th:only-of-type {\n",
       "        vertical-align: middle;\n",
       "    }\n",
       "\n",
       "    .dataframe tbody tr th {\n",
       "        vertical-align: top;\n",
       "    }\n",
       "\n",
       "    .dataframe thead th {\n",
       "        text-align: right;\n",
       "    }\n",
       "</style>\n",
       "<table border=\"1\" class=\"dataframe\">\n",
       "  <thead>\n",
       "    <tr style=\"text-align: right;\">\n",
       "      <th></th>\n",
       "      <th>UF</th>\n",
       "      <th>Count</th>\n",
       "      <th>Min</th>\n",
       "      <th>Max</th>\n",
       "      <th>Mean</th>\n",
       "      <th>Median</th>\n",
       "      <th>StdDev</th>\n",
       "      <th>Skewness</th>\n",
       "      <th>IQR</th>\n",
       "      <th>Percentage</th>\n",
       "      <th>CoefVar</th>\n",
       "    </tr>\n",
       "  </thead>\n",
       "  <tbody>\n",
       "    <tr>\n",
       "      <th>0</th>\n",
       "      <td>MG</td>\n",
       "      <td>1620</td>\n",
       "      <td>12.00</td>\n",
       "      <td>98.00</td>\n",
       "      <td>49.24</td>\n",
       "      <td>45.17</td>\n",
       "      <td>26.67</td>\n",
       "      <td>0.24</td>\n",
       "      <td>49.67</td>\n",
       "      <td>15.46</td>\n",
       "      <td>54.17</td>\n",
       "    </tr>\n",
       "    <tr>\n",
       "      <th>1</th>\n",
       "      <td>PR</td>\n",
       "      <td>1890</td>\n",
       "      <td>12.00</td>\n",
       "      <td>98.00</td>\n",
       "      <td>50.93</td>\n",
       "      <td>50.67</td>\n",
       "      <td>26.32</td>\n",
       "      <td>0.23</td>\n",
       "      <td>49.50</td>\n",
       "      <td>18.04</td>\n",
       "      <td>51.67</td>\n",
       "    </tr>\n",
       "    <tr>\n",
       "      <th>2</th>\n",
       "      <td>RJ</td>\n",
       "      <td>2916</td>\n",
       "      <td>12.00</td>\n",
       "      <td>98.00</td>\n",
       "      <td>53.13</td>\n",
       "      <td>50.67</td>\n",
       "      <td>27.79</td>\n",
       "      <td>0.25</td>\n",
       "      <td>49.50</td>\n",
       "      <td>27.84</td>\n",
       "      <td>52.30</td>\n",
       "    </tr>\n",
       "    <tr>\n",
       "      <th>3</th>\n",
       "      <td>SC</td>\n",
       "      <td>1620</td>\n",
       "      <td>12.00</td>\n",
       "      <td>98.00</td>\n",
       "      <td>47.98</td>\n",
       "      <td>47.92</td>\n",
       "      <td>26.66</td>\n",
       "      <td>0.25</td>\n",
       "      <td>55.17</td>\n",
       "      <td>15.46</td>\n",
       "      <td>55.57</td>\n",
       "    </tr>\n",
       "    <tr>\n",
       "      <th>4</th>\n",
       "      <td>SP</td>\n",
       "      <td>2430</td>\n",
       "      <td>12.00</td>\n",
       "      <td>98.00</td>\n",
       "      <td>51.95</td>\n",
       "      <td>45.17</td>\n",
       "      <td>28.07</td>\n",
       "      <td>0.23</td>\n",
       "      <td>44.00</td>\n",
       "      <td>23.20</td>\n",
       "      <td>54.04</td>\n",
       "    </tr>\n",
       "  </tbody>\n",
       "</table>\n",
       "</div>"
      ],
      "text/plain": [
       "   UF  Count   Min   Max  Mean  Median  StdDev  Skewness   IQR  Percentage  \\\n",
       "0  MG   1620 12.00 98.00 49.24   45.17   26.67      0.24 49.67       15.46   \n",
       "1  PR   1890 12.00 98.00 50.93   50.67   26.32      0.23 49.50       18.04   \n",
       "2  RJ   2916 12.00 98.00 53.13   50.67   27.79      0.25 49.50       27.84   \n",
       "3  SC   1620 12.00 98.00 47.98   47.92   26.66      0.25 55.17       15.46   \n",
       "4  SP   2430 12.00 98.00 51.95   45.17   28.07      0.23 44.00       23.20   \n",
       "\n",
       "   CoefVar  \n",
       "0    54.17  \n",
       "1    51.67  \n",
       "2    52.30  \n",
       "3    55.57  \n",
       "4    54.04  "
      ]
     },
     "execution_count": 16,
     "metadata": {},
     "output_type": "execute_result"
    }
   ],
   "source": [
    "extended_stats_by_group(df, 'UF', 'SCORE')"
   ]
  },
  {
   "cell_type": "code",
   "execution_count": 17,
   "metadata": {},
   "outputs": [
    {
     "data": {
      "image/png": "[encoded data removed]",
      "text/plain": [
       "<Figure size 600x400 with 1 Axes>"
      ]
     },
     "metadata": {},
     "output_type": "display_data"
    }
   ],
   "source": [
    "plot_config = {\n",
    "    'figsize': (6, 4),\n",
    "    'title': 'Distribuição do Score por Estado',\n",
    "    'x_label': '',\n",
    "    'y_label': 'Score',\n",
    "    'axis_font_size': 12,\n",
    "    'title_size': 16,\n",
    "    'colors': {\n",
    "        \"RJ\": {\n",
    "            \"primary_color\": \"#0033A0\",\n",
    "            \"harmonized_color\": \"#0073E6\"\n",
    "        },\n",
    "        \"MG\": {\n",
    "            \"primary_color\": \"#FF0000\",\n",
    "            \"harmonized_color\": \"#FF6666\"\n",
    "        },\n",
    "        \"SC\": {\n",
    "            \"primary_color\": \"#009739\",\n",
    "            \"harmonized_color\": \"#66CC99\"\n",
    "        },\n",
    "        \"SP\": {\n",
    "            \"primary_color\": \"#000000\",\n",
    "            \"harmonized_color\": \"#595959\"\n",
    "        },\n",
    "        \"PR\": {\n",
    "            \"primary_color\": \"#007A33\",\n",
    "            \"harmonized_color\": \"#66B291\"\n",
    "        }\n",
    "    }\n",
    "}\n",
    "\n",
    "plot_boxplot_grouped(df, 'SCORE', 'UF', plot_config)"
   ]
  },
  {
   "cell_type": "markdown",
   "metadata": {},
   "source": [
    "## Idade"
   ]
  },
  {
   "cell_type": "code",
   "execution_count": 18,
   "metadata": {},
   "outputs": [
    {
     "data": {
      "text/plain": [
       "count   10476.00\n",
       "mean       41.05\n",
       "std        13.88\n",
       "min        19.00\n",
       "25%        28.00\n",
       "50%        42.00\n",
       "75%        53.00\n",
       "max        65.00\n",
       "Name: IDADE, dtype: float64"
      ]
     },
     "execution_count": 18,
     "metadata": {},
     "output_type": "execute_result"
    }
   ],
   "source": [
    "df.IDADE.describe()"
   ]
  },
  {
   "cell_type": "code",
   "execution_count": 19,
   "metadata": {},
   "outputs": [
    {
     "data": {
      "image/png": "[encoded data removed]",
      "text/plain": [
       "<Figure size 600x400 with 1 Axes>"
      ]
     },
     "metadata": {},
     "output_type": "display_data"
    }
   ],
   "source": [
    "plot_config = {\n",
    "    'figsize': (6, 4),\n",
    "    'title': 'Histograma das Idades',\n",
    "    'x_label': 'Idade',\n",
    "    'y_label': 'Quantidade',\n",
    "    'axis_font_size': 12,\n",
    "    'title_size': 16 }\n",
    "\n",
    "plot_histogram(df, 'IDADE', plot_config)"
   ]
  },
  {
   "cell_type": "code",
   "execution_count": 20,
   "metadata": {},
   "outputs": [
    {
     "data": {
      "text/plain": [
       "28"
      ]
     },
     "execution_count": 20,
     "metadata": {},
     "output_type": "execute_result"
    }
   ],
   "source": [
    "df.IDADE.nunique()"
   ]
  },
  {
   "cell_type": "markdown",
   "metadata": {},
   "source": [
    "## Escolaridade"
   ]
  },
  {
   "cell_type": "code",
   "execution_count": 21,
   "metadata": {},
   "outputs": [
    {
     "data": {
      "text/html": [
       "<div>\n",
       "<style scoped>\n",
       "    .dataframe tbody tr th:only-of-type {\n",
       "        vertical-align: middle;\n",
       "    }\n",
       "\n",
       "    .dataframe tbody tr th {\n",
       "        vertical-align: top;\n",
       "    }\n",
       "\n",
       "    .dataframe thead th {\n",
       "        text-align: right;\n",
       "    }\n",
       "</style>\n",
       "<table border=\"1\" class=\"dataframe\">\n",
       "  <thead>\n",
       "    <tr style=\"text-align: right;\">\n",
       "      <th></th>\n",
       "      <th>Count</th>\n",
       "      <th>Percentage</th>\n",
       "    </tr>\n",
       "    <tr>\n",
       "      <th>ESCOLARIDADE</th>\n",
       "      <th></th>\n",
       "      <th></th>\n",
       "    </tr>\n",
       "  </thead>\n",
       "  <tbody>\n",
       "    <tr>\n",
       "      <th>Superior Completo</th>\n",
       "      <td>3672</td>\n",
       "      <td>35.05</td>\n",
       "    </tr>\n",
       "    <tr>\n",
       "      <th>Superior Cursando</th>\n",
       "      <td>3654</td>\n",
       "      <td>34.88</td>\n",
       "    </tr>\n",
       "    <tr>\n",
       "      <th>Segundo Grau Completo</th>\n",
       "      <td>3150</td>\n",
       "      <td>30.07</td>\n",
       "    </tr>\n",
       "  </tbody>\n",
       "</table>\n",
       "</div>"
      ],
      "text/plain": [
       "                       Count  Percentage\n",
       "ESCOLARIDADE                            \n",
       "Superior Completo       3672       35.05\n",
       "Superior Cursando       3654       34.88\n",
       "Segundo Grau Completo   3150       30.07"
      ]
     },
     "execution_count": 21,
     "metadata": {},
     "output_type": "execute_result"
    }
   ],
   "source": [
    "value_counts_with_percentage(df, \"ESCOLARIDADE\")"
   ]
  },
  {
   "cell_type": "code",
   "execution_count": 22,
   "metadata": {},
   "outputs": [
    {
     "data": {
      "text/html": [
       "<div>\n",
       "<style scoped>\n",
       "    .dataframe tbody tr th:only-of-type {\n",
       "        vertical-align: middle;\n",
       "    }\n",
       "\n",
       "    .dataframe tbody tr th {\n",
       "        vertical-align: top;\n",
       "    }\n",
       "\n",
       "    .dataframe thead th {\n",
       "        text-align: right;\n",
       "    }\n",
       "</style>\n",
       "<table border=\"1\" class=\"dataframe\">\n",
       "  <thead>\n",
       "    <tr style=\"text-align: right;\">\n",
       "      <th></th>\n",
       "      <th>ESCOLARIDADE</th>\n",
       "      <th>Count</th>\n",
       "      <th>Min</th>\n",
       "      <th>Max</th>\n",
       "      <th>Mean</th>\n",
       "      <th>Median</th>\n",
       "      <th>StdDev</th>\n",
       "      <th>Skewness</th>\n",
       "      <th>IQR</th>\n",
       "      <th>Percentage</th>\n",
       "      <th>CoefVar</th>\n",
       "    </tr>\n",
       "  </thead>\n",
       "  <tbody>\n",
       "    <tr>\n",
       "      <th>0</th>\n",
       "      <td>Segundo Grau Completo</td>\n",
       "      <td>3150</td>\n",
       "      <td>12.00</td>\n",
       "      <td>94.67</td>\n",
       "      <td>49.95</td>\n",
       "      <td>39.67</td>\n",
       "      <td>25.41</td>\n",
       "      <td>0.26</td>\n",
       "      <td>49.67</td>\n",
       "      <td>30.07</td>\n",
       "      <td>50.87</td>\n",
       "    </tr>\n",
       "    <tr>\n",
       "      <th>1</th>\n",
       "      <td>Superior Completo</td>\n",
       "      <td>3672</td>\n",
       "      <td>12.00</td>\n",
       "      <td>98.00</td>\n",
       "      <td>52.85</td>\n",
       "      <td>50.67</td>\n",
       "      <td>27.78</td>\n",
       "      <td>0.24</td>\n",
       "      <td>50.88</td>\n",
       "      <td>35.05</td>\n",
       "      <td>52.57</td>\n",
       "    </tr>\n",
       "    <tr>\n",
       "      <th>2</th>\n",
       "      <td>Superior Cursando</td>\n",
       "      <td>3654</td>\n",
       "      <td>12.00</td>\n",
       "      <td>98.00</td>\n",
       "      <td>50.22</td>\n",
       "      <td>45.17</td>\n",
       "      <td>28.30</td>\n",
       "      <td>0.23</td>\n",
       "      <td>49.50</td>\n",
       "      <td>34.88</td>\n",
       "      <td>56.36</td>\n",
       "    </tr>\n",
       "  </tbody>\n",
       "</table>\n",
       "</div>"
      ],
      "text/plain": [
       "            ESCOLARIDADE  Count   Min   Max  Mean  Median  StdDev  Skewness  \\\n",
       "0  Segundo Grau Completo   3150 12.00 94.67 49.95   39.67   25.41      0.26   \n",
       "1      Superior Completo   3672 12.00 98.00 52.85   50.67   27.78      0.24   \n",
       "2      Superior Cursando   3654 12.00 98.00 50.22   45.17   28.30      0.23   \n",
       "\n",
       "    IQR  Percentage  CoefVar  \n",
       "0 49.67       30.07    50.87  \n",
       "1 50.88       35.05    52.57  \n",
       "2 49.50       34.88    56.36  "
      ]
     },
     "execution_count": 22,
     "metadata": {},
     "output_type": "execute_result"
    }
   ],
   "source": [
    "extended_stats_by_group(df, 'ESCOLARIDADE', 'SCORE')"
   ]
  },
  {
   "cell_type": "code",
   "execution_count": 23,
   "metadata": {},
   "outputs": [
    {
     "data": {
      "image/png": "[encoded data removed]",
      "text/plain": [
       "<Figure size 800x400 with 1 Axes>"
      ]
     },
     "metadata": {},
     "output_type": "display_data"
    }
   ],
   "source": [
    "plot_config = {'figsize':(8, 4),\n",
    "               'title':'Distribuição do Score Agrupadas pelo Nível de Escolaridade',\n",
    "               'x_label':'',\n",
    "               'y_label':'Score',\n",
    "               'axis_font_size': 14,\n",
    "               'title_size': 16\n",
    "               }\n",
    "\n",
    "plot_boxplot_grouped(df, 'SCORE','ESCOLARIDADE', plot_config)\n"
   ]
  },
  {
   "cell_type": "markdown",
   "metadata": {},
   "source": [
    "## Estado Civil"
   ]
  },
  {
   "cell_type": "code",
   "execution_count": 24,
   "metadata": {},
   "outputs": [
    {
     "data": {
      "text/plain": [
       "count      10476\n",
       "unique         4\n",
       "top       Casado\n",
       "freq        4716\n",
       "Name: ESTADO_CIVIL, dtype: object"
      ]
     },
     "execution_count": 24,
     "metadata": {},
     "output_type": "execute_result"
    }
   ],
   "source": [
    "df['ESTADO_CIVIL'].describe()"
   ]
  },
  {
   "cell_type": "code",
   "execution_count": 25,
   "metadata": {},
   "outputs": [
    {
     "data": {
      "text/html": [
       "<div>\n",
       "<style scoped>\n",
       "    .dataframe tbody tr th:only-of-type {\n",
       "        vertical-align: middle;\n",
       "    }\n",
       "\n",
       "    .dataframe tbody tr th {\n",
       "        vertical-align: top;\n",
       "    }\n",
       "\n",
       "    .dataframe thead th {\n",
       "        text-align: right;\n",
       "    }\n",
       "</style>\n",
       "<table border=\"1\" class=\"dataframe\">\n",
       "  <thead>\n",
       "    <tr style=\"text-align: right;\">\n",
       "      <th></th>\n",
       "      <th>Count</th>\n",
       "      <th>Percentage</th>\n",
       "    </tr>\n",
       "    <tr>\n",
       "      <th>ESTADO_CIVIL</th>\n",
       "      <th></th>\n",
       "      <th></th>\n",
       "    </tr>\n",
       "  </thead>\n",
       "  <tbody>\n",
       "    <tr>\n",
       "      <th>Casado</th>\n",
       "      <td>4716</td>\n",
       "      <td>45.02</td>\n",
       "    </tr>\n",
       "    <tr>\n",
       "      <th>Solteiro</th>\n",
       "      <td>2592</td>\n",
       "      <td>24.74</td>\n",
       "    </tr>\n",
       "    <tr>\n",
       "      <th>Divorciado</th>\n",
       "      <td>2592</td>\n",
       "      <td>24.74</td>\n",
       "    </tr>\n",
       "    <tr>\n",
       "      <th>Viuvo</th>\n",
       "      <td>576</td>\n",
       "      <td>5.50</td>\n",
       "    </tr>\n",
       "  </tbody>\n",
       "</table>\n",
       "</div>"
      ],
      "text/plain": [
       "              Count  Percentage\n",
       "ESTADO_CIVIL                   \n",
       "Casado         4716       45.02\n",
       "Solteiro       2592       24.74\n",
       "Divorciado     2592       24.74\n",
       "Viuvo           576        5.50"
      ]
     },
     "execution_count": 25,
     "metadata": {},
     "output_type": "execute_result"
    }
   ],
   "source": [
    "value_counts_with_percentage(df, 'ESTADO_CIVIL')"
   ]
  },
  {
   "cell_type": "markdown",
   "metadata": {},
   "source": [
    "## Quantidade de Filhos"
   ]
  },
  {
   "cell_type": "markdown",
   "metadata": {},
   "source": [
    "Observou-se uma suspeita de valores outliers na variável \"QT_FILHOS\"(quantidade de filhos), pois é incomum que um indivíduo tenha 42 filhos. A análise inicial indica dois valores que parecem candidatos a _outliers_.\n",
    "\n",
    "Para confirmar se esses valores são realmente outliers, utilizaremos um boxplot. O boxplot permitirá visualizar a distribuição dos dados e identificar possíveis valores extremos que estão fora do intervalo esperado.\n",
    "\n",
    "Após a análise com o boxplot, a suspeita foi confirmada: os valores identificados são, de fato, outliers.\n",
    "\n",
    "\n",
    "---------------------------------------------------\n",
    "\n",
    "**Como lidar com _outliers_ ?**\n",
    "\n",
    "Existem várias maneiras de lidar com _outliers_, e muitas delas são semelhantes às técnicas utilizadas para imputação de dados ausentes (_missing data_). No entanto, é fundamental identificar estatisticamente quais valores devem ser considerados _outliers_ antes de realizar a substituição.\n",
    "\n",
    "A identificação de _outliers_ pode ser feita por meio do Intervalo Interquartil (IQR), uma técnica baseada na estatística descritiva. O IQR mede a dispersão dos dados ao considerar a diferença entre o terceiro quartil (Q3) e o primeiro quartil (Q1), ou seja, a parte central de uma distribuição de dados. Valores que estão significativamente acima de Q3 ou abaixo de Q1 podem ser considerados outliers.\n",
    "\n",
    "Após identificar esses valores extremos, podemos optar por substituí-los usando medidas de posição, como média, mediana ou moda. A escolha da medida adequada dependerá do comportamento dos dados e do objetivo da análise.\n",
    "\n",
    "Neste caso, como a média, moda e mediana possuem seus valores muito próximos, substituiremos pela moda.\n",
    "(ATENÇÃO: a média deu um valor decimal, atente-se ao utilizar a substituição por um valor inteiro, já que não há a possibilidade de obter 1 filho e meio, por exemplo.)"
   ]
  },
  {
   "cell_type": "code",
   "execution_count": 26,
   "metadata": {},
   "outputs": [
    {
     "data": {
      "text/plain": [
       "count   10476.00\n",
       "mean        1.12\n",
       "std         1.11\n",
       "min         0.00\n",
       "25%         0.00\n",
       "50%         1.00\n",
       "75%         2.00\n",
       "max        42.00\n",
       "Name: QT_FILHOS, dtype: float64"
      ]
     },
     "execution_count": 26,
     "metadata": {},
     "output_type": "execute_result"
    }
   ],
   "source": [
    "df['QT_FILHOS'].describe()"
   ]
  },
  {
   "cell_type": "code",
   "execution_count": 27,
   "metadata": {},
   "outputs": [
    {
     "data": {
      "text/html": [
       "<div>\n",
       "<style scoped>\n",
       "    .dataframe tbody tr th:only-of-type {\n",
       "        vertical-align: middle;\n",
       "    }\n",
       "\n",
       "    .dataframe tbody tr th {\n",
       "        vertical-align: top;\n",
       "    }\n",
       "\n",
       "    .dataframe thead th {\n",
       "        text-align: right;\n",
       "    }\n",
       "</style>\n",
       "<table border=\"1\" class=\"dataframe\">\n",
       "  <thead>\n",
       "    <tr style=\"text-align: right;\">\n",
       "      <th></th>\n",
       "      <th>Count</th>\n",
       "      <th>Percentage</th>\n",
       "    </tr>\n",
       "    <tr>\n",
       "      <th>QT_FILHOS</th>\n",
       "      <th></th>\n",
       "      <th></th>\n",
       "    </tr>\n",
       "  </thead>\n",
       "  <tbody>\n",
       "    <tr>\n",
       "      <th>1</th>\n",
       "      <td>3726</td>\n",
       "      <td>35.57</td>\n",
       "    </tr>\n",
       "    <tr>\n",
       "      <th>0</th>\n",
       "      <td>3329</td>\n",
       "      <td>31.78</td>\n",
       "    </tr>\n",
       "    <tr>\n",
       "      <th>2</th>\n",
       "      <td>2303</td>\n",
       "      <td>21.98</td>\n",
       "    </tr>\n",
       "    <tr>\n",
       "      <th>3</th>\n",
       "      <td>1116</td>\n",
       "      <td>10.65</td>\n",
       "    </tr>\n",
       "    <tr>\n",
       "      <th>38</th>\n",
       "      <td>1</td>\n",
       "      <td>0.01</td>\n",
       "    </tr>\n",
       "    <tr>\n",
       "      <th>42</th>\n",
       "      <td>1</td>\n",
       "      <td>0.01</td>\n",
       "    </tr>\n",
       "  </tbody>\n",
       "</table>\n",
       "</div>"
      ],
      "text/plain": [
       "           Count  Percentage\n",
       "QT_FILHOS                   \n",
       "1           3726       35.57\n",
       "0           3329       31.78\n",
       "2           2303       21.98\n",
       "3           1116       10.65\n",
       "38             1        0.01\n",
       "42             1        0.01"
      ]
     },
     "execution_count": 27,
     "metadata": {},
     "output_type": "execute_result"
    }
   ],
   "source": [
    "value_counts_with_percentage(df, 'QT_FILHOS')"
   ]
  },
  {
   "cell_type": "code",
   "execution_count": 28,
   "metadata": {},
   "outputs": [
    {
     "data": {
      "image/png": "[encoded data removed]",
      "text/plain": [
       "<Figure size 600x400 with 1 Axes>"
      ]
     },
     "metadata": {},
     "output_type": "display_data"
    }
   ],
   "source": [
    "plot_config = {'figsize':(6, 4),\n",
    "               'title':'Distribuição da Quantidade de Filhos',\n",
    "               'x_label':'Quantidade',\n",
    "               'y_label':'',\n",
    "               'axis_font_size': 14,\n",
    "               'title_size': 16\n",
    "               }\n",
    "\n",
    "plot_boxplot_simple(df, 'QT_FILHOS', plot_config)"
   ]
  },
  {
   "cell_type": "code",
   "execution_count": 29,
   "metadata": {},
   "outputs": [
    {
     "name": "stdout",
     "output_type": "stream",
     "text": [
      "Média: 1.12, Moda: 1, Mediana: 1.0\n"
     ]
    }
   ],
   "source": [
    "print(f\"Média: {df['QT_FILHOS'].mean():.2f}, Moda: {df['QT_FILHOS'].mode()[0]}, Mediana: {df['QT_FILHOS'].median()}\")"
   ]
  },
  {
   "cell_type": "code",
   "execution_count": 30,
   "metadata": {},
   "outputs": [
    {
     "data": {
      "text/plain": [
       "count   10476.00\n",
       "mean        1.12\n",
       "std         0.97\n",
       "min         0.00\n",
       "25%         0.00\n",
       "50%         1.00\n",
       "75%         2.00\n",
       "max         3.00\n",
       "Name: QT_FILHOS, dtype: float64"
      ]
     },
     "execution_count": 30,
     "metadata": {},
     "output_type": "execute_result"
    }
   ],
   "source": [
    "df['QT_FILHOS'] = replace_outliers(df, 'QT_FILHOS', 'mode')\n",
    "df.QT_FILHOS.describe()"
   ]
  },
  {
   "cell_type": "markdown",
   "metadata": {},
   "source": [
    "## Casa Própria, Quantidade de Imóveis e Valor do Imóvel"
   ]
  },
  {
   "cell_type": "markdown",
   "metadata": {},
   "source": [
    "Identificamos duas variáveis chave que podem estar correlacionadas: CASA_PROPRIA e QNT_IMOVEIS (quantidade de imóveis). É estratégico analisar essas variáveis em conjunto para garantir a consistência e a integridade dos dados.\n",
    "\n",
    "Logicamente, se uma pessoa possui casa própria, o número de imóveis associados deve ser superior a zero. Por outro lado, se a pessoa não possui imóveis, essa variável deve ser zero. Qualquer desvio dessa lógica indica a possibilidade de inconsistências nos dados, o que pode impactar a qualidade da análise.\n",
    "\n",
    "Em alguns casos, pode ser aceitável, pelas regras de negócio, que um indivíduo não tenha casa própria, mas possua outros imóveis. Essas exceções devem ser identificadas e comunicadas aos stakeholders relevantes para mitigar riscos e garantir a precisão das decisões baseadas nesses dados."
   ]
  },
  {
   "cell_type": "markdown",
   "metadata": {},
   "source": [
    "### Casa Própria"
   ]
  },
  {
   "cell_type": "code",
   "execution_count": 31,
   "metadata": {},
   "outputs": [
    {
     "data": {
      "text/plain": [
       "count     10476\n",
       "unique        2\n",
       "top         Não\n",
       "freq       5724\n",
       "Name: CASA_PROPRIA, dtype: object"
      ]
     },
     "execution_count": 31,
     "metadata": {},
     "output_type": "execute_result"
    }
   ],
   "source": [
    "df.CASA_PROPRIA.describe()"
   ]
  },
  {
   "cell_type": "code",
   "execution_count": 32,
   "metadata": {},
   "outputs": [
    {
     "data": {
      "text/html": [
       "<div>\n",
       "<style scoped>\n",
       "    .dataframe tbody tr th:only-of-type {\n",
       "        vertical-align: middle;\n",
       "    }\n",
       "\n",
       "    .dataframe tbody tr th {\n",
       "        vertical-align: top;\n",
       "    }\n",
       "\n",
       "    .dataframe thead th {\n",
       "        text-align: right;\n",
       "    }\n",
       "</style>\n",
       "<table border=\"1\" class=\"dataframe\">\n",
       "  <thead>\n",
       "    <tr style=\"text-align: right;\">\n",
       "      <th></th>\n",
       "      <th>Count</th>\n",
       "      <th>Percentage</th>\n",
       "    </tr>\n",
       "    <tr>\n",
       "      <th>CASA_PROPRIA</th>\n",
       "      <th></th>\n",
       "      <th></th>\n",
       "    </tr>\n",
       "  </thead>\n",
       "  <tbody>\n",
       "    <tr>\n",
       "      <th>Não</th>\n",
       "      <td>5724</td>\n",
       "      <td>54.64</td>\n",
       "    </tr>\n",
       "    <tr>\n",
       "      <th>Sim</th>\n",
       "      <td>4752</td>\n",
       "      <td>45.36</td>\n",
       "    </tr>\n",
       "  </tbody>\n",
       "</table>\n",
       "</div>"
      ],
      "text/plain": [
       "              Count  Percentage\n",
       "CASA_PROPRIA                   \n",
       "Não            5724       54.64\n",
       "Sim            4752       45.36"
      ]
     },
     "execution_count": 32,
     "metadata": {},
     "output_type": "execute_result"
    }
   ],
   "source": [
    "value_counts_with_percentage(df, 'CASA_PROPRIA')"
   ]
  },
  {
   "cell_type": "code",
   "execution_count": 33,
   "metadata": {},
   "outputs": [
    {
     "data": {
      "image/png": "[encoded data removed]",
      "text/plain": [
       "<Figure size 600x400 with 1 Axes>"
      ]
     },
     "metadata": {},
     "output_type": "display_data"
    }
   ],
   "source": [
    "plot_config = {'figsize':(6, 4),\n",
    "               'title':'Distribuição do Score por Casa Própia',\n",
    "               'x_label':'',\n",
    "               'y_label':'',\n",
    "               'axis_font_size': 14,\n",
    "               'title_size': 16\n",
    "               }\n",
    "plot_boxplot_grouped(df, 'SCORE', 'CASA_PROPRIA', plot_config)"
   ]
  },
  {
   "cell_type": "markdown",
   "metadata": {},
   "source": [
    "### Qantidade de Imóveis"
   ]
  },
  {
   "cell_type": "code",
   "execution_count": 34,
   "metadata": {},
   "outputs": [
    {
     "data": {
      "text/plain": [
       "count   10476.00\n",
       "mean        0.85\n",
       "std         0.96\n",
       "min         0.00\n",
       "25%         0.00\n",
       "50%         1.00\n",
       "75%         1.00\n",
       "max         3.00\n",
       "Name: QT_IMOVEIS, dtype: float64"
      ]
     },
     "execution_count": 34,
     "metadata": {},
     "output_type": "execute_result"
    }
   ],
   "source": [
    "df['QT_IMOVEIS'].describe()"
   ]
  },
  {
   "cell_type": "code",
   "execution_count": 35,
   "metadata": {},
   "outputs": [
    {
     "data": {
      "text/html": [
       "<div>\n",
       "<style scoped>\n",
       "    .dataframe tbody tr th:only-of-type {\n",
       "        vertical-align: middle;\n",
       "    }\n",
       "\n",
       "    .dataframe tbody tr th {\n",
       "        vertical-align: top;\n",
       "    }\n",
       "\n",
       "    .dataframe thead th {\n",
       "        text-align: right;\n",
       "    }\n",
       "</style>\n",
       "<table border=\"1\" class=\"dataframe\">\n",
       "  <thead>\n",
       "    <tr style=\"text-align: right;\">\n",
       "      <th></th>\n",
       "      <th>Count</th>\n",
       "      <th>Percentage</th>\n",
       "    </tr>\n",
       "    <tr>\n",
       "      <th>QT_IMOVEIS</th>\n",
       "      <th></th>\n",
       "      <th></th>\n",
       "    </tr>\n",
       "  </thead>\n",
       "  <tbody>\n",
       "    <tr>\n",
       "      <th>0</th>\n",
       "      <td>4680</td>\n",
       "      <td>44.67</td>\n",
       "    </tr>\n",
       "    <tr>\n",
       "      <th>1</th>\n",
       "      <td>3762</td>\n",
       "      <td>35.91</td>\n",
       "    </tr>\n",
       "    <tr>\n",
       "      <th>3</th>\n",
       "      <td>1044</td>\n",
       "      <td>9.97</td>\n",
       "    </tr>\n",
       "    <tr>\n",
       "      <th>2</th>\n",
       "      <td>990</td>\n",
       "      <td>9.45</td>\n",
       "    </tr>\n",
       "  </tbody>\n",
       "</table>\n",
       "</div>"
      ],
      "text/plain": [
       "            Count  Percentage\n",
       "QT_IMOVEIS                   \n",
       "0            4680       44.67\n",
       "1            3762       35.91\n",
       "3            1044        9.97\n",
       "2             990        9.45"
      ]
     },
     "execution_count": 35,
     "metadata": {},
     "output_type": "execute_result"
    }
   ],
   "source": [
    "value_counts_with_percentage(df, 'QT_IMOVEIS')"
   ]
  },
  {
   "cell_type": "markdown",
   "metadata": {},
   "source": [
    "### Validação Casa Própria e Quantidade de Imóveis"
   ]
  },
  {
   "cell_type": "code",
   "execution_count": 36,
   "metadata": {},
   "outputs": [
    {
     "name": "stdout",
     "output_type": "stream",
     "text": [
      "Erro de validação: Provavelmente há um erro, neste caso o ideal é consultar as regras de negócio.\n"
     ]
    }
   ],
   "source": [
    "# Validar o imovel prório e a quantidade de imóveis\n",
    "try:\n",
    "    # Validar o imóvel próprio e a quantidade de imóveis\n",
    "    assert df[df['CASA_PROPRIA'] == 'Não'].shape[0] == df[df['QT_IMOVEIS'] == 0].shape[0], 'Provavelmente há um erro, neste caso o ideal é consultar as regras de negócio.'\n",
    "except AssertionError as e:\n",
    "    print(f\"Erro de validação: {e}\")"
   ]
  },
  {
   "cell_type": "markdown",
   "metadata": {},
   "source": [
    "### Valor dos Imóveis"
   ]
  },
  {
   "cell_type": "markdown",
   "metadata": {},
   "source": [
    "Pela análise da distribuição dos dados, pode-se inferir que a variável Valor dos Imóveis provavelmente representa o valor total de todos os imóveis de uma pessoa, em vez do valor de um único imóvel.\n",
    "\n",
    "Essa hipótese deve ser validada junto aos stakeholders, garantindo que o entendimento dos dados esteja alinhado com as regras de negócio e a realidade das transações imobiliárias.\n",
    "\n"
   ]
  },
  {
   "cell_type": "code",
   "execution_count": 37,
   "metadata": {},
   "outputs": [
    {
     "data": {
      "text/plain": [
       "count    10476.00\n",
       "mean    238453.61\n",
       "std     265843.93\n",
       "min          0.00\n",
       "25%          0.00\n",
       "50%     185000.00\n",
       "75%     370000.00\n",
       "max     900000.00\n",
       "Name: VL_IMOVEIS, dtype: float64"
      ]
     },
     "execution_count": 37,
     "metadata": {},
     "output_type": "execute_result"
    }
   ],
   "source": [
    "df['VL_IMOVEIS'].describe()"
   ]
  },
  {
   "cell_type": "code",
   "execution_count": 38,
   "metadata": {},
   "outputs": [
    {
     "data": {
      "image/png": "[encoded data removed]",
      "text/plain": [
       "<Figure size 600x400 with 1 Axes>"
      ]
     },
     "metadata": {},
     "output_type": "display_data"
    }
   ],
   "source": [
    "plot_config = {'figsize':(6, 4),\n",
    "               'title':'Distribuição do Valor dos Imóveis',\n",
    "               'x_label':'Valores',\n",
    "               'y_label':'Densidade',\n",
    "               'axis_font_size': 12,\n",
    "               'title_size': 14,\n",
    "               }\n",
    "plot_boxplot_simple(df, 'VL_IMOVEIS', plot_config)"
   ]
  },
  {
   "cell_type": "code",
   "execution_count": 39,
   "metadata": {},
   "outputs": [
    {
     "data": {
      "text/plain": [
       "(522, 17)"
      ]
     },
     "execution_count": 39,
     "metadata": {},
     "output_type": "execute_result"
    }
   ],
   "source": [
    "df[df['VL_IMOVEIS'] ==  900000 ].shape"
   ]
  },
  {
   "cell_type": "code",
   "execution_count": 40,
   "metadata": {},
   "outputs": [
    {
     "data": {
      "image/png": "[encoded data removed]",
      "text/plain": [
       "<Figure size 600x400 with 1 Axes>"
      ]
     },
     "metadata": {},
     "output_type": "display_data"
    }
   ],
   "source": [
    "\n",
    "plot_config = {'figsize':(6, 4),\n",
    "               'title':'Distribuição do Valor dos Imóveis',\n",
    "               'x_label':'Quantidade de Imóveis',\n",
    "               'y_label':'Valores',\n",
    "               'axis_font_size': 12,\n",
    "               'title_size': 14,\n",
    "               }\n",
    "plot_boxplot_grouped(df, 'VL_IMOVEIS', 'QT_IMOVEIS', plot_config)"
   ]
  },
  {
   "cell_type": "markdown",
   "metadata": {},
   "source": [
    "### Tratamento final do conjunto de atributos\n",
    "\n",
    "A técnica de feature engineering também desempenha um papel fundamental na melhoria da análise, permitindo a extração de novas variáveis a partir da base de dados.\n",
    "\n",
    "No caso das variáveis valor do imóvel e quantidade de imóveis, uma métrica relevante seria o valor médio por imóvel, especialmente em cenários onde uma pessoa possui mais de um imóvel. Essa abordagem oferece uma visão mais detalhada e pode melhorar a qualidade dos _insights_ gerados.\n",
    "\n",
    "Além disso, a análise da importância relativa das variáveis pode ser fundamental. Se o valor total dos imóveis for altamente representativo, pode-se considerar duas abordagens: utilizar o valor total ou calcular a média por imóvel, assumindo que cada pessoa possui apenas um. Ambas as abordagens devem ser testadas para verificar o impacto nas análises e na performance do modelo.\n",
    "\n",
    "Por fim, é essencial esclarecer se o valor do imóvel se refere ao total de todos os imóveis ou apenas a um deles. Essa distinção deve ser discutida com os _stakeholders_ para assegurar a correta interpretação dos dados e evitar distorções nas análises.\n",
    "\n",
    "Entretanto, para essa análise vamos assumir uma coluna nova a VLM_IMOVEL que representará o valor médio dos imóveis. "
   ]
  },
  {
   "cell_type": "code",
   "execution_count": 41,
   "metadata": {},
   "outputs": [
    {
     "data": {
      "text/plain": [
       "(count    10476.00\n",
       " mean    160303.55\n",
       " std     154963.89\n",
       " min          0.00\n",
       " 25%          0.00\n",
       " 50%     185000.00\n",
       " 75%     300000.00\n",
       " max     450000.00\n",
       " Name: VLM_IMOVEIS, dtype: float64,\n",
       " np.int64(0))"
      ]
     },
     "execution_count": 41,
     "metadata": {},
     "output_type": "execute_result"
    }
   ],
   "source": [
    "df['VLM_IMOVEIS'] = 0\n",
    "df['VLM_IMOVEIS'] = df['VL_IMOVEIS'] / df['QT_IMOVEIS']\n",
    "df.loc[ (df['QT_IMOVEIS'] == 0 ) & (df['VL_IMOVEIS'] == 0), 'VLM_IMOVEIS'] = 0\n",
    "df['VLM_IMOVEIS'].describe(), df['VLM_IMOVEIS'].isnull().sum()"
   ]
  },
  {
   "cell_type": "markdown",
   "metadata": {},
   "source": [
    "## Renda"
   ]
  },
  {
   "cell_type": "markdown",
   "metadata": {},
   "source": [
    "### Outra renda e Outra Renda Valor"
   ]
  },
  {
   "cell_type": "markdown",
   "metadata": {},
   "source": [
    "As variáveis `OUTRA_RENDA` e `OUTRA_RENDA_VALOR`, podem ser utilizadas para verificar a consist~encia dos dados, uma vez que pela lógica o cliente que possui outra renda como sim, deveria ter o valor de `OUTRA_RENDA_VALOR` != 0. Essa validação é feita e os dados aparentemente são consistêntes. \n",
    "\n",
    "Inicialmente, foram identificados alguns _outliers_ nos valores da variável `OUTRA_RENDA_VALOR`. No entanto, esses valores são considerados plausíveis, uma vez que refletem a possibilidade de os indivíduos declararem uma renda adicional variável, e descrepante dos demais dependendo de suas fontes.\n",
    "\n",
    "Dessa forma, optou-se por não remover ou substituir esses _outliers_, já que eles podem representar variações reais e importantes no perfil de renda. Essa decisão está alinhada com a premissa de manter a integridade dos dados para análises mais precisas, respeitando a realidade financeira dos declarantes.\n",
    "\n",
    "> ** Atenção: ** Para fins de aplicação de algoritmos de Aprendizado de Máquina, pode ser que esses valores precisem ser suavizados para não enviesar os resultados. Tais aspectos serão discutidos quando necessário."
   ]
  },
  {
   "cell_type": "code",
   "execution_count": 42,
   "metadata": {},
   "outputs": [],
   "source": [
    "assert df[df['OUTRA_RENDA'] == 'Sim'].shape[0] == df[df['OUTRA_RENDA_VALOR'] != 0].shape[0], \"Provavelmente há inconsitência\""
   ]
  },
  {
   "cell_type": "code",
   "execution_count": 43,
   "metadata": {},
   "outputs": [
    {
     "data": {
      "text/plain": [
       "OUTRA_RENDA\n",
       "Não    8352\n",
       "Sim    2124\n",
       "Name: count, dtype: int64"
      ]
     },
     "execution_count": 43,
     "metadata": {},
     "output_type": "execute_result"
    }
   ],
   "source": [
    "df['OUTRA_RENDA'].value_counts()"
   ]
  },
  {
   "cell_type": "code",
   "execution_count": 44,
   "metadata": {},
   "outputs": [
    {
     "data": {
      "image/png": "[encoded data removed]",
      "text/plain": [
       "<Figure size 600x400 with 1 Axes>"
      ]
     },
     "metadata": {},
     "output_type": "display_data"
    }
   ],
   "source": [
    "plot_config = {'figsize':(6, 4),\n",
    "               'title':'Distribuição dos Valores Provenientes de Outra Renda',\n",
    "               'x_label':'Quantidade de Imóveis',\n",
    "               'y_label':'Valores',\n",
    "               'axis_font_size': 12,\n",
    "               'title_size': 14,\n",
    "               }\n",
    "plot_boxplot_simple (df, 'OUTRA_RENDA_VALOR',plot_config) "
   ]
  },
  {
   "cell_type": "markdown",
   "metadata": {},
   "source": [
    "### Tempo de Emprego"
   ]
  },
  {
   "cell_type": "markdown",
   "metadata": {},
   "source": [
    "Essa variável contém muitos valores diferentes são 17 no intervalo de [8:150].\n",
    "\n",
    "Quando transformado em entrada para o Algoritmo de Aprendizado de Máquina, deve-se observar o impacto que essa variável terá ao passá-la para o algoritmo aplicando uma tecnica de discretização ou não em cima desses dados."
   ]
  },
  {
   "cell_type": "code",
   "execution_count": 45,
   "metadata": {},
   "outputs": [
    {
     "data": {
      "text/plain": [
       "(17,\n",
       " count   10476.00\n",
       " mean       43.07\n",
       " std        40.85\n",
       " min         8.00\n",
       " 25%        14.00\n",
       " 50%        22.00\n",
       " 75%        75.00\n",
       " max       150.00\n",
       " Name: TEMPO_ULTIMO_EMPREGO_MESES, dtype: float64)"
      ]
     },
     "execution_count": 45,
     "metadata": {},
     "output_type": "execute_result"
    }
   ],
   "source": [
    "df['TEMPO_ULTIMO_EMPREGO_MESES'].nunique(), df['TEMPO_ULTIMO_EMPREGO_MESES'].describe(), "
   ]
  },
  {
   "cell_type": "code",
   "execution_count": 46,
   "metadata": {},
   "outputs": [
    {
     "data": {
      "text/html": [
       "<div>\n",
       "<style scoped>\n",
       "    .dataframe tbody tr th:only-of-type {\n",
       "        vertical-align: middle;\n",
       "    }\n",
       "\n",
       "    .dataframe tbody tr th {\n",
       "        vertical-align: top;\n",
       "    }\n",
       "\n",
       "    .dataframe thead th {\n",
       "        text-align: right;\n",
       "    }\n",
       "</style>\n",
       "<table border=\"1\" class=\"dataframe\">\n",
       "  <thead>\n",
       "    <tr style=\"text-align: right;\">\n",
       "      <th></th>\n",
       "      <th>Count</th>\n",
       "      <th>Percentage</th>\n",
       "    </tr>\n",
       "    <tr>\n",
       "      <th>TEMPO_ULTIMO_EMPREGO_MESES</th>\n",
       "      <th></th>\n",
       "      <th></th>\n",
       "    </tr>\n",
       "  </thead>\n",
       "  <tbody>\n",
       "    <tr>\n",
       "      <th>8</th>\n",
       "      <td>846</td>\n",
       "      <td>8.08</td>\n",
       "    </tr>\n",
       "    <tr>\n",
       "      <th>9</th>\n",
       "      <td>792</td>\n",
       "      <td>7.56</td>\n",
       "    </tr>\n",
       "    <tr>\n",
       "      <th>18</th>\n",
       "      <td>792</td>\n",
       "      <td>7.56</td>\n",
       "    </tr>\n",
       "    <tr>\n",
       "      <th>22</th>\n",
       "      <td>792</td>\n",
       "      <td>7.56</td>\n",
       "    </tr>\n",
       "    <tr>\n",
       "      <th>30</th>\n",
       "      <td>792</td>\n",
       "      <td>7.56</td>\n",
       "    </tr>\n",
       "    <tr>\n",
       "      <th>14</th>\n",
       "      <td>792</td>\n",
       "      <td>7.56</td>\n",
       "    </tr>\n",
       "    <tr>\n",
       "      <th>19</th>\n",
       "      <td>612</td>\n",
       "      <td>5.84</td>\n",
       "    </tr>\n",
       "    <tr>\n",
       "      <th>80</th>\n",
       "      <td>522</td>\n",
       "      <td>4.98</td>\n",
       "    </tr>\n",
       "    <tr>\n",
       "      <th>15</th>\n",
       "      <td>522</td>\n",
       "      <td>4.98</td>\n",
       "    </tr>\n",
       "    <tr>\n",
       "      <th>93</th>\n",
       "      <td>522</td>\n",
       "      <td>4.98</td>\n",
       "    </tr>\n",
       "    <tr>\n",
       "      <th>90</th>\n",
       "      <td>522</td>\n",
       "      <td>4.98</td>\n",
       "    </tr>\n",
       "    <tr>\n",
       "      <th>12</th>\n",
       "      <td>522</td>\n",
       "      <td>4.98</td>\n",
       "    </tr>\n",
       "    <tr>\n",
       "      <th>75</th>\n",
       "      <td>522</td>\n",
       "      <td>4.98</td>\n",
       "    </tr>\n",
       "    <tr>\n",
       "      <th>150</th>\n",
       "      <td>522</td>\n",
       "      <td>4.98</td>\n",
       "    </tr>\n",
       "    <tr>\n",
       "      <th>25</th>\n",
       "      <td>468</td>\n",
       "      <td>4.47</td>\n",
       "    </tr>\n",
       "    <tr>\n",
       "      <th>48</th>\n",
       "      <td>468</td>\n",
       "      <td>4.47</td>\n",
       "    </tr>\n",
       "    <tr>\n",
       "      <th>120</th>\n",
       "      <td>468</td>\n",
       "      <td>4.47</td>\n",
       "    </tr>\n",
       "  </tbody>\n",
       "</table>\n",
       "</div>"
      ],
      "text/plain": [
       "                            Count  Percentage\n",
       "TEMPO_ULTIMO_EMPREGO_MESES                   \n",
       "8                             846        8.08\n",
       "9                             792        7.56\n",
       "18                            792        7.56\n",
       "22                            792        7.56\n",
       "30                            792        7.56\n",
       "14                            792        7.56\n",
       "19                            612        5.84\n",
       "80                            522        4.98\n",
       "15                            522        4.98\n",
       "93                            522        4.98\n",
       "90                            522        4.98\n",
       "12                            522        4.98\n",
       "75                            522        4.98\n",
       "150                           522        4.98\n",
       "25                            468        4.47\n",
       "48                            468        4.47\n",
       "120                           468        4.47"
      ]
     },
     "execution_count": 46,
     "metadata": {},
     "output_type": "execute_result"
    }
   ],
   "source": [
    "value_counts_with_percentage(df, 'TEMPO_ULTIMO_EMPREGO_MESES')"
   ]
  },
  {
   "cell_type": "markdown",
   "metadata": {},
   "source": [
    "### Último Salário e Trabalhando Atualmente\n",
    "\n",
    "A variável TRABALHANDO_ATUALMENTE precisa ser validada em relação à variável ÚLTIMO_SALÁRIO, já que, se o cliente não está atualmente empregado, ele teoricamente não deveria ter uma renda salarial ativa. Nesse cenário, é necessário avaliar se faz sentido manter o valor do último salário ou aplicar outra lógica, conforme as regras de negócio.\n",
    "\n",
    "Para os casos em que o cliente não está trabalhando, mas possui outra fonte de renda, é viável considerar a substituição do valor do último salário pelo valor de OUTRA_RENDA_VALOR. Além disso, faz sentido criar uma nova variável de RENDA_TOTAL? Desse modo que englobe todas as fontes de renda do cliente, garantindo uma visão mais completa de sua capacidade financeira.\n",
    "\n",
    "Embora essa abordagem deve ser validada junto aos _stakeholders_ para assegurar que as regras de negócio sejam seguidas e que a análise de dados mantenha a precisão necessária, neste cenário, criaremos uma nova coluna representando a capacidade total de renda desses clientes : RENDA_TOTAL. \n",
    "\n",
    "Além disso, o cliente que não possuir salário, nem possuir uma outra fonte de renda, terá sua RENDA_TOTAL reprezentada por zero. "
   ]
  },
  {
   "cell_type": "code",
   "execution_count": 47,
   "metadata": {},
   "outputs": [
    {
     "data": {
      "text/html": [
       "<div>\n",
       "<style scoped>\n",
       "    .dataframe tbody tr th:only-of-type {\n",
       "        vertical-align: middle;\n",
       "    }\n",
       "\n",
       "    .dataframe tbody tr th {\n",
       "        vertical-align: top;\n",
       "    }\n",
       "\n",
       "    .dataframe thead th {\n",
       "        text-align: right;\n",
       "    }\n",
       "</style>\n",
       "<table border=\"1\" class=\"dataframe\">\n",
       "  <thead>\n",
       "    <tr style=\"text-align: right;\">\n",
       "      <th></th>\n",
       "      <th>Count</th>\n",
       "      <th>Percentage</th>\n",
       "    </tr>\n",
       "    <tr>\n",
       "      <th>TRABALHANDO_ATUALMENTE</th>\n",
       "      <th></th>\n",
       "      <th></th>\n",
       "    </tr>\n",
       "  </thead>\n",
       "  <tbody>\n",
       "    <tr>\n",
       "      <th>Sim</th>\n",
       "      <td>6336</td>\n",
       "      <td>60.48</td>\n",
       "    </tr>\n",
       "    <tr>\n",
       "      <th>Não</th>\n",
       "      <td>4140</td>\n",
       "      <td>39.52</td>\n",
       "    </tr>\n",
       "  </tbody>\n",
       "</table>\n",
       "</div>"
      ],
      "text/plain": [
       "                        Count  Percentage\n",
       "TRABALHANDO_ATUALMENTE                   \n",
       "Sim                      6336       60.48\n",
       "Não                      4140       39.52"
      ]
     },
     "execution_count": 47,
     "metadata": {},
     "output_type": "execute_result"
    }
   ],
   "source": [
    "value_counts_with_percentage(df, 'TRABALHANDO_ATUALMENTE')"
   ]
  },
  {
   "cell_type": "code",
   "execution_count": 48,
   "metadata": {},
   "outputs": [
    {
     "data": {
      "text/plain": [
       "count   10476.00\n",
       "mean     8287.16\n",
       "std      5826.47\n",
       "min      1800.00\n",
       "25%      3900.00\n",
       "50%      6100.00\n",
       "75%     11500.00\n",
       "max     22000.00\n",
       "Name: ULTIMO_SALARIO, dtype: float64"
      ]
     },
     "execution_count": 48,
     "metadata": {},
     "output_type": "execute_result"
    }
   ],
   "source": [
    "df['ULTIMO_SALARIO'].describe()"
   ]
  },
  {
   "cell_type": "code",
   "execution_count": 49,
   "metadata": {},
   "outputs": [
    {
     "data": {
      "image/png": "[encoded data removed]",
      "text/plain": [
       "<Figure size 600x400 with 1 Axes>"
      ]
     },
     "metadata": {},
     "output_type": "display_data"
    }
   ],
   "source": [
    "plot_config = {'figsize':(6, 4),\n",
    "               'title':'Distribuição do Último Salário',\n",
    "               'x_label':'Valores',\n",
    "               'y_label':'',\n",
    "               'axis_font_size': 12,\n",
    "               'title_size': 14,\n",
    "               }\n",
    "plot_boxplot_simple(df, 'ULTIMO_SALARIO', plot_config)"
   ]
  },
  {
   "cell_type": "code",
   "execution_count": 50,
   "metadata": {},
   "outputs": [
    {
     "data": {
      "text/plain": [
       "count   522.00\n",
       "mean     94.67\n",
       "std       0.00\n",
       "min      94.67\n",
       "25%      94.67\n",
       "50%      94.67\n",
       "75%      94.67\n",
       "max      94.67\n",
       "Name: SCORE, dtype: float64"
      ]
     },
     "execution_count": 50,
     "metadata": {},
     "output_type": "execute_result"
    }
   ],
   "source": [
    "# alguns não trabalham mas tem outra renda, esses podem passar?\n",
    "df[(df['TRABALHANDO_ATUALMENTE'] == 'Não') & (df['OUTRA_RENDA_VALOR'] != 0)]['SCORE'].describe() "
   ]
  },
  {
   "cell_type": "code",
   "execution_count": 51,
   "metadata": {},
   "outputs": [
    {
     "data": {
      "text/plain": [
       "OUTRA_RENDA\n",
       "Não    8352\n",
       "Sim    2124\n",
       "Name: count, dtype: int64"
      ]
     },
     "execution_count": 51,
     "metadata": {},
     "output_type": "execute_result"
    }
   ],
   "source": [
    "df['OUTRA_RENDA'].value_counts()"
   ]
  },
  {
   "cell_type": "markdown",
   "metadata": {},
   "source": [
    "### Último Salário"
   ]
  },
  {
   "cell_type": "code",
   "execution_count": 52,
   "metadata": {},
   "outputs": [
    {
     "data": {
      "text/plain": [
       "count   10476.00\n",
       "mean     8287.16\n",
       "std      5826.47\n",
       "min      1800.00\n",
       "25%      3900.00\n",
       "50%      6100.00\n",
       "75%     11500.00\n",
       "max     22000.00\n",
       "Name: ULTIMO_SALARIO, dtype: float64"
      ]
     },
     "execution_count": 52,
     "metadata": {},
     "output_type": "execute_result"
    }
   ],
   "source": [
    "plot_config = {'figsize':(6, 4),\n",
    "               'title':'Distribuição do Último Salário',\n",
    "               'x_label':'Valores',\n",
    "               'y_label':'',\n",
    "               'axis_font_size': 12,\n",
    "               'title_size': 14,\n",
    "               }\n",
    "df['ULTIMO_SALARIO'].describe()"
   ]
  },
  {
   "cell_type": "code",
   "execution_count": 53,
   "metadata": {},
   "outputs": [
    {
     "data": {
      "image/png": "[encoded data removed]",
      "text/plain": [
       "<Figure size 600x400 with 1 Axes>"
      ]
     },
     "metadata": {},
     "output_type": "display_data"
    }
   ],
   "source": [
    "plot_boxplot_simple(df, 'ULTIMO_SALARIO', plot_config)"
   ]
  },
  {
   "cell_type": "markdown",
   "metadata": {},
   "source": [
    "## Renda Total\n",
    "\n",
    "Por fim, foi criado uma nova variável a RENDA_TOTAL, que considera: \n",
    "\n",
    "* Cliente com outra renda e trabalhando:\n",
    "\n",
    "    Se a pessoa possui outra renda e está trabalhando, a RENDA_TOTAL será a soma do último salário e o valor de outra renda.\n",
    "\n",
    "* Cliente sem outra renda, mas trabalhando:\n",
    "\n",
    "    Se a pessoa não possui outra renda, mas está trabalhando, a RENDA_TOTAL será o valor do último salário.\n",
    "\n",
    "* Cliente não está trabalhando, mas possui outra renda:\n",
    "\n",
    "    Se a pessoa não está trabalhando, mas possui outra renda, a RENDA_TOTAL será o valor de outra renda.\n"
   ]
  },
  {
   "cell_type": "code",
   "execution_count": 54,
   "metadata": {},
   "outputs": [
    {
     "data": {
      "image/png": "[encoded data removed]",
      "text/plain": [
       "<Figure size 600x400 with 1 Axes>"
      ]
     },
     "metadata": {},
     "output_type": "display_data"
    }
   ],
   "source": [
    "# Inicializa a coluna 'RENDA_TOTAL' com zero\n",
    "df['RENDA_TOTAL'] = 0\n",
    "\n",
    "# Se a pessoa possui outra renda e está trabalhando, soma a renda atual com a outra renda\n",
    "df.loc[(df['OUTRA_RENDA'] == 'Sim') & (df['TRABALHANDO_ATUALMENTE'] == 'Sim'), 'RENDA_TOTAL'] = df['ULTIMO_SALARIO'] + df['OUTRA_RENDA_VALOR']\n",
    "\n",
    "# Se a pessoa não possui outra renda e está trabalhando, a renda total é o último salário\n",
    "df.loc[(df['OUTRA_RENDA'] == 'Não') & (df['TRABALHANDO_ATUALMENTE'] == 'Sim'), 'RENDA_TOTAL'] = df['ULTIMO_SALARIO'] \n",
    "\n",
    "# Se a pessoa não está trabalhando, mas possui outra renda, a renda total é o OUTRA_RENDA_VALOR\n",
    "df.loc[(df['OUTRA_RENDA'] == 'Sim') & (df['TRABALHANDO_ATUALMENTE'] == 'Não'), 'RENDA_TOTAL'] =  df['OUTRA_RENDA_VALOR']\n",
    "\n",
    "plot_config = {'figsize':(6, 4),\n",
    "               'title':'Distribuição da Renda Total',\n",
    "               'x_label':'Valores',\n",
    "               'y_label':'',\n",
    "               'axis_font_size': 12,\n",
    "               'title_size': 14,\n",
    "               }\n",
    "plot_boxplot_simple(df, 'RENDA_TOTAL', plot_config)"
   ]
  },
  {
   "cell_type": "markdown",
   "metadata": {},
   "source": [
    "###  Quantidade de Carros e Valor da Tabela\n",
    "\n",
    "Para garantir a consistência dos dados, é possível realizar uma checagem entre as variáveis Quantidade de Carros e Valor Tabela Carros. A lógica esperada é a seguinte:\n",
    "\n",
    "* Se o cliente não possui carros, o VALOR_TABELA_CARROS deve ser igual a zero.\n",
    "* Para clientes que possuem carros, o VALOR_TABELA_CARROS deve ser maior que zero.\n",
    "\n",
    "Essa verificação é importante para assegurar a integridade dos dados e garantir que a análise reflita corretamente a realidade dos clientes. Qualquer discrepância deve ser investigada e, se necessário, discutida com os _stakeholders_.\n",
    "\n",
    "Além disso, criaremos uma coluna a VM_VEICULO, que representará o valor médio dos veículos."
   ]
  },
  {
   "cell_type": "code",
   "execution_count": 55,
   "metadata": {},
   "outputs": [
    {
     "data": {
      "text/html": [
       "<div>\n",
       "<style scoped>\n",
       "    .dataframe tbody tr th:only-of-type {\n",
       "        vertical-align: middle;\n",
       "    }\n",
       "\n",
       "    .dataframe tbody tr th {\n",
       "        vertical-align: top;\n",
       "    }\n",
       "\n",
       "    .dataframe thead th {\n",
       "        text-align: right;\n",
       "    }\n",
       "</style>\n",
       "<table border=\"1\" class=\"dataframe\">\n",
       "  <thead>\n",
       "    <tr style=\"text-align: right;\">\n",
       "      <th></th>\n",
       "      <th>CODIGO_CLIENTE</th>\n",
       "      <th>UF</th>\n",
       "      <th>IDADE</th>\n",
       "      <th>ESCOLARIDADE</th>\n",
       "      <th>ESTADO_CIVIL</th>\n",
       "      <th>QT_FILHOS</th>\n",
       "      <th>CASA_PROPRIA</th>\n",
       "      <th>QT_IMOVEIS</th>\n",
       "      <th>VL_IMOVEIS</th>\n",
       "      <th>OUTRA_RENDA</th>\n",
       "      <th>OUTRA_RENDA_VALOR</th>\n",
       "      <th>TEMPO_ULTIMO_EMPREGO_MESES</th>\n",
       "      <th>TRABALHANDO_ATUALMENTE</th>\n",
       "      <th>ULTIMO_SALARIO</th>\n",
       "      <th>QT_CARROS</th>\n",
       "      <th>VALOR_TABELA_CARROS</th>\n",
       "      <th>SCORE</th>\n",
       "      <th>VLM_IMOVEIS</th>\n",
       "      <th>RENDA_TOTAL</th>\n",
       "    </tr>\n",
       "  </thead>\n",
       "  <tbody>\n",
       "  </tbody>\n",
       "</table>\n",
       "</div>"
      ],
      "text/plain": [
       "Empty DataFrame\n",
       "Columns: [CODIGO_CLIENTE, UF, IDADE, ESCOLARIDADE, ESTADO_CIVIL, QT_FILHOS, CASA_PROPRIA, QT_IMOVEIS, VL_IMOVEIS, OUTRA_RENDA, OUTRA_RENDA_VALOR, TEMPO_ULTIMO_EMPREGO_MESES, TRABALHANDO_ATUALMENTE, ULTIMO_SALARIO, QT_CARROS, VALOR_TABELA_CARROS, SCORE, VLM_IMOVEIS, RENDA_TOTAL]\n",
       "Index: []"
      ]
     },
     "execution_count": 55,
     "metadata": {},
     "output_type": "execute_result"
    }
   ],
   "source": [
    "df[ (df['QT_CARROS'] == 0) & (df['VALOR_TABELA_CARROS'] > 0)]"
   ]
  },
  {
   "cell_type": "code",
   "execution_count": 56,
   "metadata": {},
   "outputs": [
    {
     "data": {
      "text/html": [
       "<div>\n",
       "<style scoped>\n",
       "    .dataframe tbody tr th:only-of-type {\n",
       "        vertical-align: middle;\n",
       "    }\n",
       "\n",
       "    .dataframe tbody tr th {\n",
       "        vertical-align: top;\n",
       "    }\n",
       "\n",
       "    .dataframe thead th {\n",
       "        text-align: right;\n",
       "    }\n",
       "</style>\n",
       "<table border=\"1\" class=\"dataframe\">\n",
       "  <thead>\n",
       "    <tr style=\"text-align: right;\">\n",
       "      <th></th>\n",
       "      <th>CODIGO_CLIENTE</th>\n",
       "      <th>UF</th>\n",
       "      <th>IDADE</th>\n",
       "      <th>ESCOLARIDADE</th>\n",
       "      <th>ESTADO_CIVIL</th>\n",
       "      <th>QT_FILHOS</th>\n",
       "      <th>CASA_PROPRIA</th>\n",
       "      <th>QT_IMOVEIS</th>\n",
       "      <th>VL_IMOVEIS</th>\n",
       "      <th>OUTRA_RENDA</th>\n",
       "      <th>OUTRA_RENDA_VALOR</th>\n",
       "      <th>TEMPO_ULTIMO_EMPREGO_MESES</th>\n",
       "      <th>TRABALHANDO_ATUALMENTE</th>\n",
       "      <th>ULTIMO_SALARIO</th>\n",
       "      <th>QT_CARROS</th>\n",
       "      <th>VALOR_TABELA_CARROS</th>\n",
       "      <th>SCORE</th>\n",
       "      <th>VLM_IMOVEIS</th>\n",
       "      <th>RENDA_TOTAL</th>\n",
       "    </tr>\n",
       "  </thead>\n",
       "  <tbody>\n",
       "  </tbody>\n",
       "</table>\n",
       "</div>"
      ],
      "text/plain": [
       "Empty DataFrame\n",
       "Columns: [CODIGO_CLIENTE, UF, IDADE, ESCOLARIDADE, ESTADO_CIVIL, QT_FILHOS, CASA_PROPRIA, QT_IMOVEIS, VL_IMOVEIS, OUTRA_RENDA, OUTRA_RENDA_VALOR, TEMPO_ULTIMO_EMPREGO_MESES, TRABALHANDO_ATUALMENTE, ULTIMO_SALARIO, QT_CARROS, VALOR_TABELA_CARROS, SCORE, VLM_IMOVEIS, RENDA_TOTAL]\n",
       "Index: []"
      ]
     },
     "execution_count": 56,
     "metadata": {},
     "output_type": "execute_result"
    }
   ],
   "source": [
    "df[ (df['QT_CARROS'] != 0) & (df['VALOR_TABELA_CARROS'] == 0)]"
   ]
  },
  {
   "cell_type": "code",
   "execution_count": 57,
   "metadata": {},
   "outputs": [
    {
     "data": {
      "text/html": [
       "<div>\n",
       "<style scoped>\n",
       "    .dataframe tbody tr th:only-of-type {\n",
       "        vertical-align: middle;\n",
       "    }\n",
       "\n",
       "    .dataframe tbody tr th {\n",
       "        vertical-align: top;\n",
       "    }\n",
       "\n",
       "    .dataframe thead th {\n",
       "        text-align: right;\n",
       "    }\n",
       "</style>\n",
       "<table border=\"1\" class=\"dataframe\">\n",
       "  <thead>\n",
       "    <tr style=\"text-align: right;\">\n",
       "      <th></th>\n",
       "      <th>Count</th>\n",
       "      <th>Percentage</th>\n",
       "    </tr>\n",
       "    <tr>\n",
       "      <th>QT_CARROS</th>\n",
       "      <th></th>\n",
       "      <th></th>\n",
       "    </tr>\n",
       "  </thead>\n",
       "  <tbody>\n",
       "    <tr>\n",
       "      <th>0</th>\n",
       "      <td>3762</td>\n",
       "      <td>35.91</td>\n",
       "    </tr>\n",
       "    <tr>\n",
       "      <th>1</th>\n",
       "      <td>3618</td>\n",
       "      <td>34.54</td>\n",
       "    </tr>\n",
       "    <tr>\n",
       "      <th>2</th>\n",
       "      <td>3096</td>\n",
       "      <td>29.55</td>\n",
       "    </tr>\n",
       "  </tbody>\n",
       "</table>\n",
       "</div>"
      ],
      "text/plain": [
       "           Count  Percentage\n",
       "QT_CARROS                   \n",
       "0           3762       35.91\n",
       "1           3618       34.54\n",
       "2           3096       29.55"
      ]
     },
     "execution_count": 57,
     "metadata": {},
     "output_type": "execute_result"
    }
   ],
   "source": [
    "value_counts_with_percentage(df, 'QT_CARROS') "
   ]
  },
  {
   "cell_type": "code",
   "execution_count": 58,
   "metadata": {},
   "outputs": [
    {
     "data": {
      "image/png": "[encoded data removed]",
      "text/plain": [
       "<Figure size 600x400 with 1 Axes>"
      ]
     },
     "metadata": {},
     "output_type": "display_data"
    }
   ],
   "source": [
    "plot_config = {'figsize':(6, 4),\n",
    "               'title':'Valores do Carro por Quantidade de Veículos',\n",
    "               'x_label':'Quantidade de Carros',\n",
    "               'y_label':'Valor',\n",
    "               'axis_font_size': 12,\n",
    "               'title_size': 14,\n",
    "               }\n",
    "plot_boxplot_grouped(df, 'VALOR_TABELA_CARROS', 'QT_CARROS', plot_config)"
   ]
  },
  {
   "cell_type": "code",
   "execution_count": 59,
   "metadata": {},
   "outputs": [
    {
     "data": {
      "image/png": "[encoded data removed]",
      "text/plain": [
       "<Figure size 600x400 with 1 Axes>"
      ]
     },
     "metadata": {},
     "output_type": "display_data"
    }
   ],
   "source": [
    "df['VM_VEICULOS'] = 0\n",
    "df['VM_VEICULOS'] = df['VALOR_TABELA_CARROS'] / df['QT_CARROS']\n",
    "df['VM_VEICULOS'] = df['VM_VEICULOS'].fillna(0)\n",
    "\n",
    "plot_config = {'figsize':(6, 4),\n",
    "               'title':'Valores do Carro por Quantidade de Veículos',\n",
    "               'x_label':'Quantidade de Carros',\n",
    "               'y_label':'Valor',\n",
    "               'axis_font_size': 12,\n",
    "               'title_size': 14,\n",
    "               }\n",
    "plot_boxplot_simple(df, 'VM_VEICULOS', plot_config)"
   ]
  },
  {
   "cell_type": "markdown",
   "metadata": {},
   "source": [
    "# Preprocessing to Machine Learning Models"
   ]
  },
  {
   "cell_type": "code",
   "execution_count": 60,
   "metadata": {},
   "outputs": [
    {
     "ename": "SyntaxError",
     "evalue": "invalid syntax (2382096319.py, line 5)",
     "output_type": "error",
     "traceback": [
      "\u001b[1;36m  Cell \u001b[1;32mIn[60], line 5\u001b[1;36m\u001b[0m\n\u001b[1;33m    palette =\u001b[0m\n\u001b[1;37m              ^\u001b[0m\n\u001b[1;31mSyntaxError\u001b[0m\u001b[1;31m:\u001b[0m invalid syntax\n"
     ]
    }
   ],
   "source": [
    "import seaborn as sns\n",
    "import matplotlib.pyplot as plt\n",
    "\n",
    "# Visualizar uma paleta de cores\n",
    "palette = \n",
    "sns.palplot(palette)\n",
    "plt.show()"
   ]
  },
  {
   "cell_type": "code",
   "execution_count": null,
   "metadata": {},
   "outputs": [],
   "source": []
  }
 ],
 "metadata": {
  "kernelspec": {
   "display_name": "Python 3",
   "language": "python",
   "name": "python3"
  },
  "language_info": {
   "codemirror_mode": {
    "name": "ipython",
    "version": 3
   },
   "file_extension": ".py",
   "mimetype": "text/x-python",
   "name": "python",
   "nbconvert_exporter": "python",
   "pygments_lexer": "ipython3",
   "version": "3.12.5"
  }
 },
 "nbformat": 4,
 "nbformat_minor": 2
}
